{
 "cells": [
  {
   "cell_type": "markdown",
   "metadata": {},
   "source": [
    "# Milestone 2\n",
    "## 2.1 Imports and data loading"
   ]
  },
  {
   "cell_type": "code",
   "execution_count": 102,
   "metadata": {},
   "outputs": [],
   "source": [
    "import findspark\n",
    "findspark.init()\n",
    "from pyspark.sql import *\n",
    "spark = SparkSession.builder.getOrCreate()\n",
    "\n",
    "import matplotlib.pyplot as plt\n",
    "import numpy as np\n",
    "from pyspark.sql.functions import to_timestamp, dayofmonth, dayofweek, month, year, length, udf\n",
    "import pyspark.sql.functions as f\n",
    "\n",
    "import seaborn as sns\n",
    "\n",
    "import pandas as pd"
   ]
  },
  {
   "cell_type": "code",
   "execution_count": 4,
   "metadata": {},
   "outputs": [],
   "source": [
    "DATA_PATH = 'data/'\n",
    "FILE_NAME_00 = 'amazon_reviews_us_Books_v1_00.tsv.gz'\n",
    "FILE_NAME_01 = 'amazon_reviews_us_Books_v1_01.tsv.gz'\n",
    "FILE_NAME_02 = 'amazon_reviews_us_Books_v1_02.tsv.gz'\n",
    "FILE_NAME_US = 'amazon_reviews_multilingual_US_v1_00.tsv.gz'\n",
    "FILE_NAME_UK = 'amazon_reviews_multilingual_UK_v1_00.tsv.gz'\n",
    "FILE_NAME_FR = 'amazon_reviews_multilingual_FR_v1_00.tsv.gz'\n",
    "FILE_NAME_DE = 'amazon_reviews_multilingual_DE_v1_00.tsv.gz'\n",
    "FILE_NAME_JP = 'amazon_reviews_multilingual_JP_v1_00.tsv.gz'"
   ]
  },
  {
   "cell_type": "code",
   "execution_count": 135,
   "metadata": {},
   "outputs": [],
   "source": [
    "data_00 = spark.read.option(\"sep\", \"\\t\").option(\"header\", \"true\").csv(DATA_PATH + FILE_NAME_00)\n",
    "data_01 = spark.read.option(\"sep\", \"\\t\").option(\"header\", \"true\").csv(DATA_PATH + FILE_NAME_01)\n",
    "data_02 = spark.read.option(\"sep\", \"\\t\").option(\"header\", \"true\").csv(DATA_PATH + FILE_NAME_02)\n",
    "\n",
    "data = data_00.union(data_01).union(data_02)\n",
    "#data = data_00"
   ]
  },
  {
   "cell_type": "code",
   "execution_count": 136,
   "metadata": {},
   "outputs": [
    {
     "data": {
      "text/plain": [
       "DataFrame[product_id: string, product_title: string, count(review_id): bigint, sum(total_votes): double, avg(star_rating): double, sum(helpful_votes): double]"
      ]
     },
     "execution_count": 136,
     "metadata": {},
     "output_type": "execute_result"
    }
   ],
   "source": [
    "avg_stars = data.groupby('product_id', 'product_title').agg({\"star_rating\" : \"avg\", \"review_id\" : \"count\", \"helpful_votes\" : \"sum\", \"total_votes\" : \"sum\"})\n",
    "avg_stars.persist()"
   ]
  },
  {
   "cell_type": "code",
   "execution_count": 137,
   "metadata": {},
   "outputs": [],
   "source": [
    "avg_stars = avg_stars.withColumnRenamed('count(review_id)', 'n_reviews') \\\n",
    "                        .withColumnRenamed('sum(total_votes)', 'total_votes') \\\n",
    "                        .withColumnRenamed('sum(helpful_votes)', 'helpful_votes') \\\n",
    "                        .withColumnRenamed('avg(star_rating)', 'rating') \\"
   ]
  },
  {
   "cell_type": "code",
   "execution_count": 138,
   "metadata": {},
   "outputs": [
    {
     "name": "stdout",
     "output_type": "stream",
     "text": [
      "+----------+--------------------+---------+-----------+------------------+-------------+\n",
      "|product_id|       product_title|n_reviews|total_votes|            rating|helpful_votes|\n",
      "+----------+--------------------+---------+-----------+------------------+-------------+\n",
      "|014241543X|           If I Stay|     1003|     1842.0| 4.154536390827517|       1441.0|\n",
      "|0062091158|     King (Prophecy)|        2|        1.0|               4.0|          1.0|\n",
      "|1250056608|Rough Justice: Si...|       12|        7.0|              4.25|          7.0|\n",
      "|0340909129|Do It Tomorrow an...|       30|      519.0|               4.6|        439.0|\n",
      "|1937013200|Savage Worlds Del...|       86|      125.0| 4.848837209302325|        110.0|\n",
      "|019513172X|Nothing but Chris...|        2|        1.0|               4.5|          1.0|\n",
      "|0736432841|Anna & Elsa #1: A...|       42|       70.0| 4.619047619047619|         59.0|\n",
      "|1940484138|Common Core Asses...|       13|       22.0|3.6923076923076925|         17.0|\n",
      "|0307476073|Wild: From Lost t...|     1350|     2734.0| 4.099259259259259|       2203.0|\n",
      "|1416299025|Outlander 2016 Bo...|       11|       54.0|4.7272727272727275|         50.0|\n",
      "|1743214022|Lonely Planet Cro...|        3|        4.0|               5.0|          2.0|\n",
      "|B001IF2MG6|Calligraphy the K...|        1|        0.0|               3.0|          0.0|\n",
      "|B00UZGLL02|Mermaid Juniors' ...|        1|        0.0|               5.0|          0.0|\n",
      "|0060192674|Everything You Al...|       16|      359.0|             2.625|        247.0|\n",
      "|1423422198|Swing Favorites -...|        2|        0.0|               4.5|          0.0|\n",
      "|1572840994|Gluten-Free Bakin...|      319|     1016.0| 4.608150470219436|        683.0|\n",
      "|8888166122|Italia in Cucina:...|        9|        9.0|               5.0|          9.0|\n",
      "|0803740123|             Tracked|       12|       29.0| 4.583333333333333|         16.0|\n",
      "|0062433652|Go Set a Watchman...|       76|      203.0|3.8947368421052633|         96.0|\n",
      "|0590043749|State-by-State Gu...|        4|        0.0|               5.0|          0.0|\n",
      "+----------+--------------------+---------+-----------+------------------+-------------+\n",
      "only showing top 20 rows\n",
      "\n"
     ]
    }
   ],
   "source": [
    "avg_stars.show()"
   ]
  },
  {
   "cell_type": "code",
   "execution_count": 9,
   "metadata": {},
   "outputs": [
    {
     "data": {
      "text/plain": [
       "2274618"
      ]
     },
     "execution_count": 9,
     "metadata": {},
     "output_type": "execute_result"
    }
   ],
   "source": [
    "avg_stars.count()"
   ]
  },
  {
   "cell_type": "code",
   "execution_count": 139,
   "metadata": {},
   "outputs": [],
   "source": [
    "main_avg_stars = avg_stars.where('n_reviews > 10')"
   ]
  },
  {
   "cell_type": "code",
   "execution_count": 140,
   "metadata": {},
   "outputs": [
    {
     "name": "stdout",
     "output_type": "stream",
     "text": [
      "+----------+--------------------+---------+-----------+------------------+-------------+\n",
      "|product_id|       product_title|n_reviews|total_votes|            rating|helpful_votes|\n",
      "+----------+--------------------+---------+-----------+------------------+-------------+\n",
      "|014241543X|           If I Stay|     1003|     1842.0| 4.154536390827517|       1441.0|\n",
      "|1250056608|Rough Justice: Si...|       12|        7.0|              4.25|          7.0|\n",
      "|0340909129|Do It Tomorrow an...|       30|      519.0|               4.6|        439.0|\n",
      "|1937013200|Savage Worlds Del...|       86|      125.0| 4.848837209302325|        110.0|\n",
      "|0736432841|Anna & Elsa #1: A...|       42|       70.0| 4.619047619047619|         59.0|\n",
      "|1940484138|Common Core Asses...|       13|       22.0|3.6923076923076925|         17.0|\n",
      "|0307476073|Wild: From Lost t...|     1350|     2734.0| 4.099259259259259|       2203.0|\n",
      "|1416299025|Outlander 2016 Bo...|       11|       54.0|4.7272727272727275|         50.0|\n",
      "|0060192674|Everything You Al...|       16|      359.0|             2.625|        247.0|\n",
      "|1572840994|Gluten-Free Bakin...|      319|     1016.0| 4.608150470219436|        683.0|\n",
      "|0803740123|             Tracked|       12|       29.0| 4.583333333333333|         16.0|\n",
      "|0062433652|Go Set a Watchman...|       76|      203.0|3.8947368421052633|         96.0|\n",
      "|1938486315|Living with Loss:...|       66|       16.0|               5.0|         15.0|\n",
      "|1119052440|Gluten-Free All-I...|       15|       31.0|               4.6|         20.0|\n",
      "|1935071556|The Islamic Antic...|       78|      122.0| 4.769230769230769|         60.0|\n",
      "|0205116140|American Governme...|       12|       25.0|               4.0|          9.0|\n",
      "|0071738576|Microsoft Access ...|       18|      156.0| 4.222222222222222|        149.0|\n",
      "|0470547847|Fundamentals of B...|       24|       90.0|             3.875|         39.0|\n",
      "|1476789630|Luckiest Girl Ali...|      222|     2011.0|3.1936936936936937|       1725.0|\n",
      "|0486488349|Creative Haven Sk...|       19|      133.0|4.7368421052631575|        130.0|\n",
      "+----------+--------------------+---------+-----------+------------------+-------------+\n",
      "only showing top 20 rows\n",
      "\n"
     ]
    }
   ],
   "source": [
    "main_avg_stars.show()"
   ]
  },
  {
   "cell_type": "code",
   "execution_count": 141,
   "metadata": {},
   "outputs": [
    {
     "data": {
      "text/plain": [
       "358136"
      ]
     },
     "execution_count": 141,
     "metadata": {},
     "output_type": "execute_result"
    }
   ],
   "source": [
    "main_avg_stars.count()"
   ]
  },
  {
   "cell_type": "code",
   "execution_count": 17,
   "metadata": {},
   "outputs": [],
   "source": [
    "by_product = main_avg_stars.toPandas()"
   ]
  },
  {
   "cell_type": "code",
   "execution_count": 18,
   "metadata": {},
   "outputs": [],
   "source": [
    "by_product['ratio_helpful'] = by_product['helpful_votes'] / by_product['total_votes']"
   ]
  },
  {
   "cell_type": "code",
   "execution_count": null,
   "metadata": {},
   "outputs": [],
   "source": [
    "by_product.sort_values(by='n_reviews')"
   ]
  },
  {
   "cell_type": "markdown",
   "metadata": {},
   "source": [
    "## 2.2 Rating vs vote counts & helpful votes"
   ]
  },
  {
   "cell_type": "code",
   "execution_count": 34,
   "metadata": {},
   "outputs": [],
   "source": [
    "grouped_product_ratio = by_product.groupby([pd.cut(by_product['ratio_helpful'], bins=50, include_lowest=True)]).mean()"
   ]
  },
  {
   "cell_type": "code",
   "execution_count": 35,
   "metadata": {},
   "outputs": [
    {
     "data": {
      "text/html": [
       "<div>\n",
       "<style scoped>\n",
       "    .dataframe tbody tr th:only-of-type {\n",
       "        vertical-align: middle;\n",
       "    }\n",
       "\n",
       "    .dataframe tbody tr th {\n",
       "        vertical-align: top;\n",
       "    }\n",
       "\n",
       "    .dataframe thead th {\n",
       "        text-align: right;\n",
       "    }\n",
       "</style>\n",
       "<table border=\"1\" class=\"dataframe\">\n",
       "  <thead>\n",
       "    <tr style=\"text-align: right;\">\n",
       "      <th></th>\n",
       "      <th>n_reviews</th>\n",
       "      <th>total_votes</th>\n",
       "      <th>rating</th>\n",
       "      <th>helpful_votes</th>\n",
       "      <th>ratio_helpful</th>\n",
       "    </tr>\n",
       "    <tr>\n",
       "      <th>ratio_helpful</th>\n",
       "      <th></th>\n",
       "      <th></th>\n",
       "      <th></th>\n",
       "      <th></th>\n",
       "      <th></th>\n",
       "    </tr>\n",
       "  </thead>\n",
       "  <tbody>\n",
       "    <tr>\n",
       "      <th>(-0.002, 0.02]</th>\n",
       "      <td>16.917382</td>\n",
       "      <td>3.242523</td>\n",
       "      <td>4.524375</td>\n",
       "      <td>0.000592</td>\n",
       "      <td>0.000004</td>\n",
       "    </tr>\n",
       "    <tr>\n",
       "      <th>(0.02, 0.04]</th>\n",
       "      <td>32.625000</td>\n",
       "      <td>39.625000</td>\n",
       "      <td>4.524151</td>\n",
       "      <td>1.333333</td>\n",
       "      <td>0.034391</td>\n",
       "    </tr>\n",
       "    <tr>\n",
       "      <th>(0.04, 0.06]</th>\n",
       "      <td>26.079646</td>\n",
       "      <td>31.141593</td>\n",
       "      <td>4.505108</td>\n",
       "      <td>1.592920</td>\n",
       "      <td>0.051706</td>\n",
       "    </tr>\n",
       "    <tr>\n",
       "      <th>(0.06, 0.08]</th>\n",
       "      <td>23.104478</td>\n",
       "      <td>30.711443</td>\n",
       "      <td>4.430526</td>\n",
       "      <td>2.179104</td>\n",
       "      <td>0.071093</td>\n",
       "    </tr>\n",
       "    <tr>\n",
       "      <th>(0.08, 0.1]</th>\n",
       "      <td>22.717143</td>\n",
       "      <td>29.394286</td>\n",
       "      <td>4.389249</td>\n",
       "      <td>2.682857</td>\n",
       "      <td>0.092393</td>\n",
       "    </tr>\n",
       "  </tbody>\n",
       "</table>\n",
       "</div>"
      ],
      "text/plain": [
       "                n_reviews  total_votes    rating  helpful_votes  ratio_helpful\n",
       "ratio_helpful                                                                 \n",
       "(-0.002, 0.02]  16.917382     3.242523  4.524375       0.000592       0.000004\n",
       "(0.02, 0.04]    32.625000    39.625000  4.524151       1.333333       0.034391\n",
       "(0.04, 0.06]    26.079646    31.141593  4.505108       1.592920       0.051706\n",
       "(0.06, 0.08]    23.104478    30.711443  4.430526       2.179104       0.071093\n",
       "(0.08, 0.1]     22.717143    29.394286  4.389249       2.682857       0.092393"
      ]
     },
     "execution_count": 35,
     "metadata": {},
     "output_type": "execute_result"
    }
   ],
   "source": [
    "grouped_product_ratio.head()"
   ]
  },
  {
   "cell_type": "code",
   "execution_count": 31,
   "metadata": {},
   "outputs": [
    {
     "data": {
      "text/plain": [
       "[<matplotlib.lines.Line2D at 0x7f9b0a2ca240>]"
      ]
     },
     "execution_count": 31,
     "metadata": {},
     "output_type": "execute_result"
    },
    {
     "data": {
      "image/png": "[encoded data removed]",
      "text/plain": [
       "<Figure size 432x288 with 1 Axes>"
      ]
     },
     "metadata": {},
     "output_type": "display_data"
    }
   ],
   "source": [
    "plt.plot(grouped_product_ratio['ratio_helpful'], grouped_product_ratio['rating'])"
   ]
  },
  {
   "cell_type": "code",
   "execution_count": 23,
   "metadata": {},
   "outputs": [
    {
     "data": {
      "image/png": "[encoded data removed]",
      "text/plain": [
       "<Figure size 432x288 with 1 Axes>"
      ]
     },
     "metadata": {},
     "output_type": "display_data"
    }
   ],
   "source": [
    "plt.scatter(by_product['ratio_helpful'], by_product['rating'])\n",
    "plt.xlabel('Ratio of helpful votes')\n",
    "plt.ylabel('Number of stars')\n",
    "plt.show()"
   ]
  },
  {
   "cell_type": "code",
   "execution_count": 45,
   "metadata": {},
   "outputs": [
    {
     "data": {
      "text/plain": [
       "<seaborn.axisgrid.JointGrid at 0x7faef4801be0>"
      ]
     },
     "execution_count": 45,
     "metadata": {},
     "output_type": "execute_result"
    },
    {
     "data": {
      "image/png": "[encoded data removed]",
      "text/plain": [
       "<Figure size 432x432 with 3 Axes>"
      ]
     },
     "metadata": {},
     "output_type": "display_data"
    }
   ],
   "source": [
    "sns.jointplot(x = by_product['ratio_helpful'], y = by_product['rating'], kind='kde')"
   ]
  },
  {
   "cell_type": "markdown",
   "metadata": {},
   "source": [
    "**Observation**<br>\n",
    "We can see that the lower the number of helpful votes is, the higher the rating. However, unfortunately we cannot come up with an possible explanation for the ratio of helpful votes to influence the rating, so we cannot reason if the relationship is causal."
   ]
  },
  {
   "cell_type": "code",
   "execution_count": 60,
   "metadata": {},
   "outputs": [
    {
     "data": {
      "text/html": [
       "<div>\n",
       "<style scoped>\n",
       "    .dataframe tbody tr th:only-of-type {\n",
       "        vertical-align: middle;\n",
       "    }\n",
       "\n",
       "    .dataframe tbody tr th {\n",
       "        vertical-align: top;\n",
       "    }\n",
       "\n",
       "    .dataframe thead th {\n",
       "        text-align: right;\n",
       "    }\n",
       "</style>\n",
       "<table border=\"1\" class=\"dataframe\">\n",
       "  <thead>\n",
       "    <tr style=\"text-align: right;\">\n",
       "      <th></th>\n",
       "      <th>n_reviews</th>\n",
       "      <th>total_votes</th>\n",
       "      <th>rating</th>\n",
       "      <th>helpful_votes</th>\n",
       "      <th>ratio_helpful</th>\n",
       "    </tr>\n",
       "    <tr>\n",
       "      <th>n_reviews</th>\n",
       "      <th></th>\n",
       "      <th></th>\n",
       "      <th></th>\n",
       "      <th></th>\n",
       "      <th></th>\n",
       "    </tr>\n",
       "  </thead>\n",
       "  <tbody>\n",
       "    <tr>\n",
       "      <th>(9.999, 10.985]</th>\n",
       "      <td>NaN</td>\n",
       "      <td>NaN</td>\n",
       "      <td>NaN</td>\n",
       "      <td>NaN</td>\n",
       "      <td>NaN</td>\n",
       "    </tr>\n",
       "    <tr>\n",
       "      <th>(10.985, 12.068]</th>\n",
       "      <td>11.457496</td>\n",
       "      <td>22.154028</td>\n",
       "      <td>4.468589</td>\n",
       "      <td>15.778729</td>\n",
       "      <td>0.718889</td>\n",
       "    </tr>\n",
       "    <tr>\n",
       "      <th>(12.068, 13.257]</th>\n",
       "      <td>13.000000</td>\n",
       "      <td>26.126264</td>\n",
       "      <td>4.472138</td>\n",
       "      <td>18.482839</td>\n",
       "      <td>0.716416</td>\n",
       "    </tr>\n",
       "    <tr>\n",
       "      <th>(13.257, 14.563]</th>\n",
       "      <td>14.000000</td>\n",
       "      <td>28.158834</td>\n",
       "      <td>4.476638</td>\n",
       "      <td>19.881041</td>\n",
       "      <td>0.713630</td>\n",
       "    </tr>\n",
       "    <tr>\n",
       "      <th>(14.563, 15.999]</th>\n",
       "      <td>15.000000</td>\n",
       "      <td>30.292548</td>\n",
       "      <td>4.468246</td>\n",
       "      <td>21.485771</td>\n",
       "      <td>0.713505</td>\n",
       "    </tr>\n",
       "    <tr>\n",
       "      <th>(15.999, 17.575]</th>\n",
       "      <td>16.465675</td>\n",
       "      <td>34.735785</td>\n",
       "      <td>4.474098</td>\n",
       "      <td>24.608667</td>\n",
       "      <td>0.714995</td>\n",
       "    </tr>\n",
       "    <tr>\n",
       "      <th>(17.575, 19.307]</th>\n",
       "      <td>18.475165</td>\n",
       "      <td>39.404625</td>\n",
       "      <td>4.480337</td>\n",
       "      <td>27.736455</td>\n",
       "      <td>0.710574</td>\n",
       "    </tr>\n",
       "    <tr>\n",
       "      <th>(19.307, 21.21]</th>\n",
       "      <td>20.481149</td>\n",
       "      <td>45.999582</td>\n",
       "      <td>4.461702</td>\n",
       "      <td>32.123864</td>\n",
       "      <td>0.705816</td>\n",
       "    </tr>\n",
       "    <tr>\n",
       "      <th>(21.21, 23.3]</th>\n",
       "      <td>22.479802</td>\n",
       "      <td>49.640542</td>\n",
       "      <td>4.468865</td>\n",
       "      <td>35.285075</td>\n",
       "      <td>0.711743</td>\n",
       "    </tr>\n",
       "    <tr>\n",
       "      <th>(23.3, 25.595]</th>\n",
       "      <td>24.479124</td>\n",
       "      <td>56.565091</td>\n",
       "      <td>4.454013</td>\n",
       "      <td>39.431864</td>\n",
       "      <td>0.702655</td>\n",
       "    </tr>\n",
       "    <tr>\n",
       "      <th>(25.595, 28.118]</th>\n",
       "      <td>26.949216</td>\n",
       "      <td>61.271773</td>\n",
       "      <td>4.457263</td>\n",
       "      <td>43.921713</td>\n",
       "      <td>0.708669</td>\n",
       "    </tr>\n",
       "    <tr>\n",
       "      <th>(28.118, 30.888]</th>\n",
       "      <td>29.484134</td>\n",
       "      <td>66.429484</td>\n",
       "      <td>4.455901</td>\n",
       "      <td>47.137065</td>\n",
       "      <td>0.705934</td>\n",
       "    </tr>\n",
       "    <tr>\n",
       "      <th>(30.888, 33.932]</th>\n",
       "      <td>31.939633</td>\n",
       "      <td>74.030446</td>\n",
       "      <td>4.460349</td>\n",
       "      <td>52.107087</td>\n",
       "      <td>0.703308</td>\n",
       "    </tr>\n",
       "    <tr>\n",
       "      <th>(33.932, 37.276]</th>\n",
       "      <td>35.440492</td>\n",
       "      <td>87.659767</td>\n",
       "      <td>4.452461</td>\n",
       "      <td>61.291559</td>\n",
       "      <td>0.695117</td>\n",
       "    </tr>\n",
       "    <tr>\n",
       "      <th>(37.276, 40.949]</th>\n",
       "      <td>38.975800</td>\n",
       "      <td>95.197242</td>\n",
       "      <td>4.458908</td>\n",
       "      <td>66.778558</td>\n",
       "      <td>0.699250</td>\n",
       "    </tr>\n",
       "    <tr>\n",
       "      <th>(40.949, 44.984]</th>\n",
       "      <td>42.404345</td>\n",
       "      <td>107.239200</td>\n",
       "      <td>4.455842</td>\n",
       "      <td>74.272032</td>\n",
       "      <td>0.694669</td>\n",
       "    </tr>\n",
       "    <tr>\n",
       "      <th>(44.984, 49.417]</th>\n",
       "      <td>46.909362</td>\n",
       "      <td>122.101813</td>\n",
       "      <td>4.449624</td>\n",
       "      <td>85.369506</td>\n",
       "      <td>0.694032</td>\n",
       "    </tr>\n",
       "    <tr>\n",
       "      <th>(49.417, 54.287]</th>\n",
       "      <td>51.874180</td>\n",
       "      <td>146.400250</td>\n",
       "      <td>4.457564</td>\n",
       "      <td>100.568530</td>\n",
       "      <td>0.685373</td>\n",
       "    </tr>\n",
       "    <tr>\n",
       "      <th>(54.287, 59.636]</th>\n",
       "      <td>56.898586</td>\n",
       "      <td>161.072727</td>\n",
       "      <td>4.453015</td>\n",
       "      <td>109.799596</td>\n",
       "      <td>0.695637</td>\n",
       "    </tr>\n",
       "    <tr>\n",
       "      <th>(59.636, 65.513]</th>\n",
       "      <td>62.380933</td>\n",
       "      <td>168.925355</td>\n",
       "      <td>4.453183</td>\n",
       "      <td>115.175254</td>\n",
       "      <td>0.683642</td>\n",
       "    </tr>\n",
       "    <tr>\n",
       "      <th>(65.513, 71.969]</th>\n",
       "      <td>68.379202</td>\n",
       "      <td>197.114496</td>\n",
       "      <td>4.456924</td>\n",
       "      <td>134.342437</td>\n",
       "      <td>0.689983</td>\n",
       "    </tr>\n",
       "    <tr>\n",
       "      <th>(71.969, 79.06]</th>\n",
       "      <td>75.295704</td>\n",
       "      <td>219.180320</td>\n",
       "      <td>4.464822</td>\n",
       "      <td>150.189810</td>\n",
       "      <td>0.684495</td>\n",
       "    </tr>\n",
       "    <tr>\n",
       "      <th>(79.06, 86.851]</th>\n",
       "      <td>82.851719</td>\n",
       "      <td>241.591691</td>\n",
       "      <td>4.469691</td>\n",
       "      <td>165.351719</td>\n",
       "      <td>0.683715</td>\n",
       "    </tr>\n",
       "    <tr>\n",
       "      <th>(86.851, 95.41]</th>\n",
       "      <td>90.742165</td>\n",
       "      <td>268.176638</td>\n",
       "      <td>4.459779</td>\n",
       "      <td>179.397436</td>\n",
       "      <td>0.675989</td>\n",
       "    </tr>\n",
       "    <tr>\n",
       "      <th>(95.41, 104.811]</th>\n",
       "      <td>99.879747</td>\n",
       "      <td>310.602170</td>\n",
       "      <td>4.470697</td>\n",
       "      <td>205.665461</td>\n",
       "      <td>0.677577</td>\n",
       "    </tr>\n",
       "    <tr>\n",
       "      <th>(104.811, 115.14]</th>\n",
       "      <td>109.588073</td>\n",
       "      <td>347.793578</td>\n",
       "      <td>4.457315</td>\n",
       "      <td>238.091743</td>\n",
       "      <td>0.670523</td>\n",
       "    </tr>\n",
       "    <tr>\n",
       "      <th>(115.14, 126.486]</th>\n",
       "      <td>120.718137</td>\n",
       "      <td>351.627451</td>\n",
       "      <td>4.476379</td>\n",
       "      <td>231.464461</td>\n",
       "      <td>0.666120</td>\n",
       "    </tr>\n",
       "    <tr>\n",
       "      <th>(126.486, 138.95]</th>\n",
       "      <td>132.237537</td>\n",
       "      <td>459.109971</td>\n",
       "      <td>4.452415</td>\n",
       "      <td>297.265396</td>\n",
       "      <td>0.668183</td>\n",
       "    </tr>\n",
       "    <tr>\n",
       "      <th>(138.95, 152.642]</th>\n",
       "      <td>145.386266</td>\n",
       "      <td>506.472103</td>\n",
       "      <td>4.470236</td>\n",
       "      <td>340.686695</td>\n",
       "      <td>0.659926</td>\n",
       "    </tr>\n",
       "    <tr>\n",
       "      <th>(152.642, 167.683]</th>\n",
       "      <td>159.470588</td>\n",
       "      <td>519.147059</td>\n",
       "      <td>4.474997</td>\n",
       "      <td>336.211397</td>\n",
       "      <td>0.659913</td>\n",
       "    </tr>\n",
       "    <tr>\n",
       "      <th>(167.683, 184.207]</th>\n",
       "      <td>175.912500</td>\n",
       "      <td>661.577083</td>\n",
       "      <td>4.479627</td>\n",
       "      <td>405.691667</td>\n",
       "      <td>0.657564</td>\n",
       "    </tr>\n",
       "    <tr>\n",
       "      <th>(184.207, 202.359]</th>\n",
       "      <td>193.023560</td>\n",
       "      <td>657.445026</td>\n",
       "      <td>4.456201</td>\n",
       "      <td>448.026178</td>\n",
       "      <td>0.658831</td>\n",
       "    </tr>\n",
       "    <tr>\n",
       "      <th>(202.359, 222.3]</th>\n",
       "      <td>212.186111</td>\n",
       "      <td>731.061111</td>\n",
       "      <td>4.439518</td>\n",
       "      <td>470.988889</td>\n",
       "      <td>0.648341</td>\n",
       "    </tr>\n",
       "    <tr>\n",
       "      <th>(222.3, 244.205]</th>\n",
       "      <td>232.963504</td>\n",
       "      <td>962.959854</td>\n",
       "      <td>4.474745</td>\n",
       "      <td>660.711679</td>\n",
       "      <td>0.652758</td>\n",
       "    </tr>\n",
       "    <tr>\n",
       "      <th>(244.205, 268.27]</th>\n",
       "      <td>255.983806</td>\n",
       "      <td>880.234818</td>\n",
       "      <td>4.479823</td>\n",
       "      <td>592.558704</td>\n",
       "      <td>0.663328</td>\n",
       "    </tr>\n",
       "    <tr>\n",
       "      <th>(268.27, 294.705]</th>\n",
       "      <td>282.193878</td>\n",
       "      <td>1050.530612</td>\n",
       "      <td>4.458684</td>\n",
       "      <td>713.045918</td>\n",
       "      <td>0.652473</td>\n",
       "    </tr>\n",
       "    <tr>\n",
       "      <th>(294.705, 323.746]</th>\n",
       "      <td>309.242424</td>\n",
       "      <td>977.800000</td>\n",
       "      <td>4.441736</td>\n",
       "      <td>607.733333</td>\n",
       "      <td>0.629308</td>\n",
       "    </tr>\n",
       "    <tr>\n",
       "      <th>(323.746, 355.648]</th>\n",
       "      <td>338.041096</td>\n",
       "      <td>1932.061644</td>\n",
       "      <td>4.460581</td>\n",
       "      <td>1115.561644</td>\n",
       "      <td>0.649348</td>\n",
       "    </tr>\n",
       "    <tr>\n",
       "      <th>(355.648, 390.694]</th>\n",
       "      <td>372.598291</td>\n",
       "      <td>1684.854701</td>\n",
       "      <td>4.424957</td>\n",
       "      <td>1201.589744</td>\n",
       "      <td>0.638281</td>\n",
       "    </tr>\n",
       "    <tr>\n",
       "      <th>(390.694, 429.193]</th>\n",
       "      <td>410.867347</td>\n",
       "      <td>2054.285714</td>\n",
       "      <td>4.473170</td>\n",
       "      <td>1308.857143</td>\n",
       "      <td>0.650200</td>\n",
       "    </tr>\n",
       "    <tr>\n",
       "      <th>(429.193, 471.487]</th>\n",
       "      <td>448.989899</td>\n",
       "      <td>1588.474747</td>\n",
       "      <td>4.461259</td>\n",
       "      <td>1017.525253</td>\n",
       "      <td>0.646335</td>\n",
       "    </tr>\n",
       "    <tr>\n",
       "      <th>(471.487, 517.947]</th>\n",
       "      <td>494.916667</td>\n",
       "      <td>1898.944444</td>\n",
       "      <td>4.481155</td>\n",
       "      <td>1184.319444</td>\n",
       "      <td>0.626862</td>\n",
       "    </tr>\n",
       "    <tr>\n",
       "      <th>(517.947, 568.987]</th>\n",
       "      <td>538.357143</td>\n",
       "      <td>1498.785714</td>\n",
       "      <td>4.493334</td>\n",
       "      <td>939.482143</td>\n",
       "      <td>0.612694</td>\n",
       "    </tr>\n",
       "    <tr>\n",
       "      <th>(568.987, 625.055]</th>\n",
       "      <td>596.716981</td>\n",
       "      <td>1759.207547</td>\n",
       "      <td>4.532445</td>\n",
       "      <td>1110.396226</td>\n",
       "      <td>0.656107</td>\n",
       "    </tr>\n",
       "    <tr>\n",
       "      <th>(625.055, 686.649]</th>\n",
       "      <td>656.485714</td>\n",
       "      <td>2087.971429</td>\n",
       "      <td>4.484456</td>\n",
       "      <td>1443.000000</td>\n",
       "      <td>0.659142</td>\n",
       "    </tr>\n",
       "    <tr>\n",
       "      <th>(686.649, 754.312]</th>\n",
       "      <td>720.700000</td>\n",
       "      <td>6865.300000</td>\n",
       "      <td>4.379210</td>\n",
       "      <td>5170.333333</td>\n",
       "      <td>0.625426</td>\n",
       "    </tr>\n",
       "    <tr>\n",
       "      <th>(754.312, 828.643]</th>\n",
       "      <td>785.333333</td>\n",
       "      <td>2135.818182</td>\n",
       "      <td>4.396147</td>\n",
       "      <td>1396.060606</td>\n",
       "      <td>0.649458</td>\n",
       "    </tr>\n",
       "    <tr>\n",
       "      <th>(828.643, 910.298]</th>\n",
       "      <td>866.600000</td>\n",
       "      <td>9652.560000</td>\n",
       "      <td>4.296817</td>\n",
       "      <td>5032.480000</td>\n",
       "      <td>0.658919</td>\n",
       "    </tr>\n",
       "    <tr>\n",
       "      <th>(910.298, 1000.0]</th>\n",
       "      <td>958.028571</td>\n",
       "      <td>5614.571429</td>\n",
       "      <td>4.413292</td>\n",
       "      <td>4083.657143</td>\n",
       "      <td>0.664364</td>\n",
       "    </tr>\n",
       "  </tbody>\n",
       "</table>\n",
       "</div>"
      ],
      "text/plain": [
       "                     n_reviews  total_votes    rating  helpful_votes  \\\n",
       "n_reviews                                                              \n",
       "(9.999, 10.985]            NaN          NaN       NaN            NaN   \n",
       "(10.985, 12.068]     11.457496    22.154028  4.468589      15.778729   \n",
       "(12.068, 13.257]     13.000000    26.126264  4.472138      18.482839   \n",
       "(13.257, 14.563]     14.000000    28.158834  4.476638      19.881041   \n",
       "(14.563, 15.999]     15.000000    30.292548  4.468246      21.485771   \n",
       "(15.999, 17.575]     16.465675    34.735785  4.474098      24.608667   \n",
       "(17.575, 19.307]     18.475165    39.404625  4.480337      27.736455   \n",
       "(19.307, 21.21]      20.481149    45.999582  4.461702      32.123864   \n",
       "(21.21, 23.3]        22.479802    49.640542  4.468865      35.285075   \n",
       "(23.3, 25.595]       24.479124    56.565091  4.454013      39.431864   \n",
       "(25.595, 28.118]     26.949216    61.271773  4.457263      43.921713   \n",
       "(28.118, 30.888]     29.484134    66.429484  4.455901      47.137065   \n",
       "(30.888, 33.932]     31.939633    74.030446  4.460349      52.107087   \n",
       "(33.932, 37.276]     35.440492    87.659767  4.452461      61.291559   \n",
       "(37.276, 40.949]     38.975800    95.197242  4.458908      66.778558   \n",
       "(40.949, 44.984]     42.404345   107.239200  4.455842      74.272032   \n",
       "(44.984, 49.417]     46.909362   122.101813  4.449624      85.369506   \n",
       "(49.417, 54.287]     51.874180   146.400250  4.457564     100.568530   \n",
       "(54.287, 59.636]     56.898586   161.072727  4.453015     109.799596   \n",
       "(59.636, 65.513]     62.380933   168.925355  4.453183     115.175254   \n",
       "(65.513, 71.969]     68.379202   197.114496  4.456924     134.342437   \n",
       "(71.969, 79.06]      75.295704   219.180320  4.464822     150.189810   \n",
       "(79.06, 86.851]      82.851719   241.591691  4.469691     165.351719   \n",
       "(86.851, 95.41]      90.742165   268.176638  4.459779     179.397436   \n",
       "(95.41, 104.811]     99.879747   310.602170  4.470697     205.665461   \n",
       "(104.811, 115.14]   109.588073   347.793578  4.457315     238.091743   \n",
       "(115.14, 126.486]   120.718137   351.627451  4.476379     231.464461   \n",
       "(126.486, 138.95]   132.237537   459.109971  4.452415     297.265396   \n",
       "(138.95, 152.642]   145.386266   506.472103  4.470236     340.686695   \n",
       "(152.642, 167.683]  159.470588   519.147059  4.474997     336.211397   \n",
       "(167.683, 184.207]  175.912500   661.577083  4.479627     405.691667   \n",
       "(184.207, 202.359]  193.023560   657.445026  4.456201     448.026178   \n",
       "(202.359, 222.3]    212.186111   731.061111  4.439518     470.988889   \n",
       "(222.3, 244.205]    232.963504   962.959854  4.474745     660.711679   \n",
       "(244.205, 268.27]   255.983806   880.234818  4.479823     592.558704   \n",
       "(268.27, 294.705]   282.193878  1050.530612  4.458684     713.045918   \n",
       "(294.705, 323.746]  309.242424   977.800000  4.441736     607.733333   \n",
       "(323.746, 355.648]  338.041096  1932.061644  4.460581    1115.561644   \n",
       "(355.648, 390.694]  372.598291  1684.854701  4.424957    1201.589744   \n",
       "(390.694, 429.193]  410.867347  2054.285714  4.473170    1308.857143   \n",
       "(429.193, 471.487]  448.989899  1588.474747  4.461259    1017.525253   \n",
       "(471.487, 517.947]  494.916667  1898.944444  4.481155    1184.319444   \n",
       "(517.947, 568.987]  538.357143  1498.785714  4.493334     939.482143   \n",
       "(568.987, 625.055]  596.716981  1759.207547  4.532445    1110.396226   \n",
       "(625.055, 686.649]  656.485714  2087.971429  4.484456    1443.000000   \n",
       "(686.649, 754.312]  720.700000  6865.300000  4.379210    5170.333333   \n",
       "(754.312, 828.643]  785.333333  2135.818182  4.396147    1396.060606   \n",
       "(828.643, 910.298]  866.600000  9652.560000  4.296817    5032.480000   \n",
       "(910.298, 1000.0]   958.028571  5614.571429  4.413292    4083.657143   \n",
       "\n",
       "                    ratio_helpful  \n",
       "n_reviews                          \n",
       "(9.999, 10.985]               NaN  \n",
       "(10.985, 12.068]         0.718889  \n",
       "(12.068, 13.257]         0.716416  \n",
       "(13.257, 14.563]         0.713630  \n",
       "(14.563, 15.999]         0.713505  \n",
       "(15.999, 17.575]         0.714995  \n",
       "(17.575, 19.307]         0.710574  \n",
       "(19.307, 21.21]          0.705816  \n",
       "(21.21, 23.3]            0.711743  \n",
       "(23.3, 25.595]           0.702655  \n",
       "(25.595, 28.118]         0.708669  \n",
       "(28.118, 30.888]         0.705934  \n",
       "(30.888, 33.932]         0.703308  \n",
       "(33.932, 37.276]         0.695117  \n",
       "(37.276, 40.949]         0.699250  \n",
       "(40.949, 44.984]         0.694669  \n",
       "(44.984, 49.417]         0.694032  \n",
       "(49.417, 54.287]         0.685373  \n",
       "(54.287, 59.636]         0.695637  \n",
       "(59.636, 65.513]         0.683642  \n",
       "(65.513, 71.969]         0.689983  \n",
       "(71.969, 79.06]          0.684495  \n",
       "(79.06, 86.851]          0.683715  \n",
       "(86.851, 95.41]          0.675989  \n",
       "(95.41, 104.811]         0.677577  \n",
       "(104.811, 115.14]        0.670523  \n",
       "(115.14, 126.486]        0.666120  \n",
       "(126.486, 138.95]        0.668183  \n",
       "(138.95, 152.642]        0.659926  \n",
       "(152.642, 167.683]       0.659913  \n",
       "(167.683, 184.207]       0.657564  \n",
       "(184.207, 202.359]       0.658831  \n",
       "(202.359, 222.3]         0.648341  \n",
       "(222.3, 244.205]         0.652758  \n",
       "(244.205, 268.27]        0.663328  \n",
       "(268.27, 294.705]        0.652473  \n",
       "(294.705, 323.746]       0.629308  \n",
       "(323.746, 355.648]       0.649348  \n",
       "(355.648, 390.694]       0.638281  \n",
       "(390.694, 429.193]       0.650200  \n",
       "(429.193, 471.487]       0.646335  \n",
       "(471.487, 517.947]       0.626862  \n",
       "(517.947, 568.987]       0.612694  \n",
       "(568.987, 625.055]       0.656107  \n",
       "(625.055, 686.649]       0.659142  \n",
       "(686.649, 754.312]       0.625426  \n",
       "(754.312, 828.643]       0.649458  \n",
       "(828.643, 910.298]       0.658919  \n",
       "(910.298, 1000.0]        0.664364  "
      ]
     },
     "execution_count": 60,
     "metadata": {},
     "output_type": "execute_result"
    }
   ],
   "source": [
    "grouped_product_n_reviews = by_product.groupby([pd.cut(by_product['n_reviews'], bins=np.logspace(1, 3), include_lowest=True)]).mean()\n",
    "grouped_product_n_reviews"
   ]
  },
  {
   "cell_type": "code",
   "execution_count": 61,
   "metadata": {},
   "outputs": [
    {
     "data": {
      "image/png": "[encoded data removed]",
      "text/plain": [
       "<Figure size 432x288 with 1 Axes>"
      ]
     },
     "metadata": {},
     "output_type": "display_data"
    }
   ],
   "source": [
    "plt.scatter(grouped_product_n_reviews['n_reviews'], grouped_product_n_reviews['rating'])\n",
    "plt.xscale('log')"
   ]
  },
  {
   "cell_type": "code",
   "execution_count": 16,
   "metadata": {},
   "outputs": [
    {
     "data": {
      "image/png": "[encoded data removed]",
      "text/plain": [
       "<Figure size 432x288 with 1 Axes>"
      ]
     },
     "metadata": {},
     "output_type": "display_data"
    }
   ],
   "source": [
    "plt.scatter(by_product['n_reviews'], by_product['rating'])\n",
    "plt.xscale('log')\n",
    "plt.xlabel('Number of reviews')\n",
    "plt.ylabel('Number of stars')\n",
    "plt.show()"
   ]
  },
  {
   "cell_type": "code",
   "execution_count": 46,
   "metadata": {},
   "outputs": [
    {
     "data": {
      "text/plain": [
       "<seaborn.axisgrid.JointGrid at 0x7faef1e0f0f0>"
      ]
     },
     "execution_count": 46,
     "metadata": {},
     "output_type": "execute_result"
    },
    {
     "data": {
      "image/png": "[encoded data removed]",
      "text/plain": [
       "<Figure size 432x432 with 3 Axes>"
      ]
     },
     "metadata": {},
     "output_type": "display_data"
    }
   ],
   "source": [
    "sns.jointplot(x = by_product['n_reviews'], y = by_product['rating'], kind='kde')"
   ]
  },
  {
   "cell_type": "markdown",
   "metadata": {},
   "source": [
    "**Observation**<br>\n",
    "We can see that the higher the number of reviews is, the higher the rating. However, the causal relationship is most likely causal in the sense that better products have higher ratings, but better products also have more people that buy them, so more reviews."
   ]
  },
  {
   "cell_type": "code",
   "execution_count": 101,
   "metadata": {},
   "outputs": [
    {
     "data": {
      "image/png": "[encoded data removed]",
      "text/plain": [
       "<Figure size 432x288 with 1 Axes>"
      ]
     },
     "metadata": {},
     "output_type": "display_data"
    }
   ],
   "source": [
    "plt.hist2d(by_product['n_reviews'], by_product['rating'], bins=20)\n",
    "#plt.xlim(0, 100)\n",
    "plt.show()"
   ]
  },
  {
   "cell_type": "markdown",
   "metadata": {},
   "source": [
    "## 2.3 Analysis of Time Based Features"
   ]
  },
  {
   "cell_type": "code",
   "execution_count": 142,
   "metadata": {},
   "outputs": [],
   "source": [
    "\n",
    "def get_time_analysis(data, time_name):\n",
    "    time_types = {'month' : month('date'), 'year' : year('date'), 'dayofweek' : dayofweek('date'), 'dayofmonth' : dayofmonth('date')}\n",
    "    group_function = time_types[time_name]\n",
    "    data_bytime = data.groupby(group_function).agg(f.avg('star_rating'), f.count('review_id'), f.stddev('star_rating')).withColumnRenamed('avg(star_rating)', 'rating').withColumnRenamed('stddev_samp(star_ratinng)', 'std_rating').withColumnRenamed(time_name + '(date)', time_name)\n",
    "    data_bytime_sorted = data_bytime.sort(time_name)\n",
    "    \n",
    "    \n",
    "    by_time_pd = data_bytime_sorted.toPandas()\n",
    "    fig, (ax1, ax2) = plt.subplots(1,2, figsize=(15,6))\n",
    "    ax1.plot(by_time_pd[time_name], by_time_pd['rating'])\n",
    "    ax1.fill_between(by_time_pd[time_name], by_time_pd['rating'] - 1.96 * by_time_pd['stddev_samp(star_rating)'] / np.sqrt(by_time_pd['count(review_id)']), \\\n",
    "                                           by_time_pd['rating'] + 1.96 * by_time_pd['stddev_samp(star_rating)'] / np.sqrt(by_time_pd['count(review_id)']), alpha=0.5)\n",
    "    ax1.set_xlabel(time_name)\n",
    "    ax1.set_ylabel('Average Rating')\n",
    "    ax1.set_title('Avergage Rating vs ' + time_name)\n",
    "    \n",
    "    ax2.plot(by_time_pd[time_name], by_time_pd['count(review_id)'])\n",
    "    \n",
    "    ax2.set_xlabel(time_name)\n",
    "    ax2.set_ylabel('Number of reviews')\n",
    "    ax2.set_title('Number of ratings vs ' + time_name)\n",
    "    plt.show()\n",
    "    "
   ]
  },
  {
   "cell_type": "code",
   "execution_count": 143,
   "metadata": {},
   "outputs": [],
   "source": [
    "by_time = data.select(data['star_rating'],to_timestamp(data['review_date'], 'yyyy-MM-dd').alias('date'), data['review_id'])"
   ]
  },
  {
   "cell_type": "code",
   "execution_count": 144,
   "metadata": {},
   "outputs": [
    {
     "data": {
      "image/png": "[encoded data removed]",
      "text/plain": [
       "<Figure size 1080x432 with 2 Axes>"
      ]
     },
     "metadata": {},
     "output_type": "display_data"
    }
   ],
   "source": [
    "get_time_analysis(by_time, 'month')"
   ]
  },
  {
   "cell_type": "code",
   "execution_count": 145,
   "metadata": {},
   "outputs": [
    {
     "ename": "KeyboardInterrupt",
     "evalue": "",
     "output_type": "error",
     "traceback": [
      "\u001b[0;31m---------------------------------------------------------------------------\u001b[0m",
      "\u001b[0;31mKeyboardInterrupt\u001b[0m                         Traceback (most recent call last)",
      "\u001b[0;32m<ipython-input-145-e9f68ceecd68>\u001b[0m in \u001b[0;36m<module>\u001b[0;34m()\u001b[0m\n\u001b[0;32m----> 1\u001b[0;31m \u001b[0mget_time_analysis\u001b[0m\u001b[0;34m(\u001b[0m\u001b[0mby_time\u001b[0m\u001b[0;34m,\u001b[0m \u001b[0;34m'year'\u001b[0m\u001b[0;34m)\u001b[0m\u001b[0;34m\u001b[0m\u001b[0m\n\u001b[0m",
      "\u001b[0;32m<ipython-input-142-d18b5a8ce3c3>\u001b[0m in \u001b[0;36mget_time_analysis\u001b[0;34m(data, time_name)\u001b[0m\n\u001b[1;32m      7\u001b[0m \u001b[0;34m\u001b[0m\u001b[0m\n\u001b[1;32m      8\u001b[0m \u001b[0;34m\u001b[0m\u001b[0m\n\u001b[0;32m----> 9\u001b[0;31m     \u001b[0mby_time_pd\u001b[0m \u001b[0;34m=\u001b[0m \u001b[0mdata_bytime_sorted\u001b[0m\u001b[0;34m.\u001b[0m\u001b[0mtoPandas\u001b[0m\u001b[0;34m(\u001b[0m\u001b[0;34m)\u001b[0m\u001b[0;34m\u001b[0m\u001b[0m\n\u001b[0m\u001b[1;32m     10\u001b[0m     \u001b[0mfig\u001b[0m\u001b[0;34m,\u001b[0m \u001b[0;34m(\u001b[0m\u001b[0max1\u001b[0m\u001b[0;34m,\u001b[0m \u001b[0max2\u001b[0m\u001b[0;34m)\u001b[0m \u001b[0;34m=\u001b[0m \u001b[0mplt\u001b[0m\u001b[0;34m.\u001b[0m\u001b[0msubplots\u001b[0m\u001b[0;34m(\u001b[0m\u001b[0;36m1\u001b[0m\u001b[0;34m,\u001b[0m\u001b[0;36m2\u001b[0m\u001b[0;34m,\u001b[0m \u001b[0mfigsize\u001b[0m\u001b[0;34m=\u001b[0m\u001b[0;34m(\u001b[0m\u001b[0;36m15\u001b[0m\u001b[0;34m,\u001b[0m\u001b[0;36m6\u001b[0m\u001b[0;34m)\u001b[0m\u001b[0;34m)\u001b[0m\u001b[0;34m\u001b[0m\u001b[0m\n\u001b[1;32m     11\u001b[0m     \u001b[0max1\u001b[0m\u001b[0;34m.\u001b[0m\u001b[0mplot\u001b[0m\u001b[0;34m(\u001b[0m\u001b[0mby_time_pd\u001b[0m\u001b[0;34m[\u001b[0m\u001b[0mtime_name\u001b[0m\u001b[0;34m]\u001b[0m\u001b[0;34m,\u001b[0m \u001b[0mby_time_pd\u001b[0m\u001b[0;34m[\u001b[0m\u001b[0;34m'rating'\u001b[0m\u001b[0;34m]\u001b[0m\u001b[0;34m)\u001b[0m\u001b[0;34m\u001b[0m\u001b[0m\n",
      "\u001b[0;32m/opt/spark/spark-2.3.2-bin-hadoop2.7/python/pyspark/sql/dataframe.py\u001b[0m in \u001b[0;36mtoPandas\u001b[0;34m(self)\u001b[0m\n\u001b[1;32m   1966\u001b[0m                 \u001b[0;32mraise\u001b[0m \u001b[0mRuntimeError\u001b[0m\u001b[0;34m(\u001b[0m\u001b[0;34m\"%s\\n%s\"\u001b[0m \u001b[0;34m%\u001b[0m \u001b[0;34m(\u001b[0m\u001b[0m_exception_message\u001b[0m\u001b[0;34m(\u001b[0m\u001b[0me\u001b[0m\u001b[0;34m)\u001b[0m\u001b[0;34m,\u001b[0m \u001b[0mmsg\u001b[0m\u001b[0;34m)\u001b[0m\u001b[0;34m)\u001b[0m\u001b[0;34m\u001b[0m\u001b[0m\n\u001b[1;32m   1967\u001b[0m         \u001b[0;32melse\u001b[0m\u001b[0;34m:\u001b[0m\u001b[0;34m\u001b[0m\u001b[0m\n\u001b[0;32m-> 1968\u001b[0;31m             \u001b[0mpdf\u001b[0m \u001b[0;34m=\u001b[0m \u001b[0mpd\u001b[0m\u001b[0;34m.\u001b[0m\u001b[0mDataFrame\u001b[0m\u001b[0;34m.\u001b[0m\u001b[0mfrom_records\u001b[0m\u001b[0;34m(\u001b[0m\u001b[0mself\u001b[0m\u001b[0;34m.\u001b[0m\u001b[0mcollect\u001b[0m\u001b[0;34m(\u001b[0m\u001b[0;34m)\u001b[0m\u001b[0;34m,\u001b[0m \u001b[0mcolumns\u001b[0m\u001b[0;34m=\u001b[0m\u001b[0mself\u001b[0m\u001b[0;34m.\u001b[0m\u001b[0mcolumns\u001b[0m\u001b[0;34m)\u001b[0m\u001b[0;34m\u001b[0m\u001b[0m\n\u001b[0m\u001b[1;32m   1969\u001b[0m \u001b[0;34m\u001b[0m\u001b[0m\n\u001b[1;32m   1970\u001b[0m             \u001b[0mdtype\u001b[0m \u001b[0;34m=\u001b[0m \u001b[0;34m{\u001b[0m\u001b[0;34m}\u001b[0m\u001b[0;34m\u001b[0m\u001b[0m\n",
      "\u001b[0;32m/opt/spark/spark-2.3.2-bin-hadoop2.7/python/pyspark/sql/dataframe.py\u001b[0m in \u001b[0;36mcollect\u001b[0;34m(self)\u001b[0m\n\u001b[1;32m    464\u001b[0m         \"\"\"\n\u001b[1;32m    465\u001b[0m         \u001b[0;32mwith\u001b[0m \u001b[0mSCCallSiteSync\u001b[0m\u001b[0;34m(\u001b[0m\u001b[0mself\u001b[0m\u001b[0;34m.\u001b[0m\u001b[0m_sc\u001b[0m\u001b[0;34m)\u001b[0m \u001b[0;32mas\u001b[0m \u001b[0mcss\u001b[0m\u001b[0;34m:\u001b[0m\u001b[0;34m\u001b[0m\u001b[0m\n\u001b[0;32m--> 466\u001b[0;31m             \u001b[0msock_info\u001b[0m \u001b[0;34m=\u001b[0m \u001b[0mself\u001b[0m\u001b[0;34m.\u001b[0m\u001b[0m_jdf\u001b[0m\u001b[0;34m.\u001b[0m\u001b[0mcollectToPython\u001b[0m\u001b[0;34m(\u001b[0m\u001b[0;34m)\u001b[0m\u001b[0;34m\u001b[0m\u001b[0m\n\u001b[0m\u001b[1;32m    467\u001b[0m         \u001b[0;32mreturn\u001b[0m \u001b[0mlist\u001b[0m\u001b[0;34m(\u001b[0m\u001b[0m_load_from_socket\u001b[0m\u001b[0;34m(\u001b[0m\u001b[0msock_info\u001b[0m\u001b[0;34m,\u001b[0m \u001b[0mBatchedSerializer\u001b[0m\u001b[0;34m(\u001b[0m\u001b[0mPickleSerializer\u001b[0m\u001b[0;34m(\u001b[0m\u001b[0;34m)\u001b[0m\u001b[0;34m)\u001b[0m\u001b[0;34m)\u001b[0m\u001b[0;34m)\u001b[0m\u001b[0;34m\u001b[0m\u001b[0m\n\u001b[1;32m    468\u001b[0m \u001b[0;34m\u001b[0m\u001b[0m\n",
      "\u001b[0;32m/opt/spark/spark-2.3.2-bin-hadoop2.7/python/lib/py4j-0.10.7-src.zip/py4j/java_gateway.py\u001b[0m in \u001b[0;36m__call__\u001b[0;34m(self, *args)\u001b[0m\n\u001b[1;32m   1253\u001b[0m             \u001b[0mproto\u001b[0m\u001b[0;34m.\u001b[0m\u001b[0mEND_COMMAND_PART\u001b[0m\u001b[0;34m\u001b[0m\u001b[0m\n\u001b[1;32m   1254\u001b[0m \u001b[0;34m\u001b[0m\u001b[0m\n\u001b[0;32m-> 1255\u001b[0;31m         \u001b[0manswer\u001b[0m \u001b[0;34m=\u001b[0m \u001b[0mself\u001b[0m\u001b[0;34m.\u001b[0m\u001b[0mgateway_client\u001b[0m\u001b[0;34m.\u001b[0m\u001b[0msend_command\u001b[0m\u001b[0;34m(\u001b[0m\u001b[0mcommand\u001b[0m\u001b[0;34m)\u001b[0m\u001b[0;34m\u001b[0m\u001b[0m\n\u001b[0m\u001b[1;32m   1256\u001b[0m         return_value = get_return_value(\n\u001b[1;32m   1257\u001b[0m             answer, self.gateway_client, self.target_id, self.name)\n",
      "\u001b[0;32m/opt/spark/spark-2.3.2-bin-hadoop2.7/python/lib/py4j-0.10.7-src.zip/py4j/java_gateway.py\u001b[0m in \u001b[0;36msend_command\u001b[0;34m(self, command, retry, binary)\u001b[0m\n\u001b[1;32m    983\u001b[0m         \u001b[0mconnection\u001b[0m \u001b[0;34m=\u001b[0m \u001b[0mself\u001b[0m\u001b[0;34m.\u001b[0m\u001b[0m_get_connection\u001b[0m\u001b[0;34m(\u001b[0m\u001b[0;34m)\u001b[0m\u001b[0;34m\u001b[0m\u001b[0m\n\u001b[1;32m    984\u001b[0m         \u001b[0;32mtry\u001b[0m\u001b[0;34m:\u001b[0m\u001b[0;34m\u001b[0m\u001b[0m\n\u001b[0;32m--> 985\u001b[0;31m             \u001b[0mresponse\u001b[0m \u001b[0;34m=\u001b[0m \u001b[0mconnection\u001b[0m\u001b[0;34m.\u001b[0m\u001b[0msend_command\u001b[0m\u001b[0;34m(\u001b[0m\u001b[0mcommand\u001b[0m\u001b[0;34m)\u001b[0m\u001b[0;34m\u001b[0m\u001b[0m\n\u001b[0m\u001b[1;32m    986\u001b[0m             \u001b[0;32mif\u001b[0m \u001b[0mbinary\u001b[0m\u001b[0;34m:\u001b[0m\u001b[0;34m\u001b[0m\u001b[0m\n\u001b[1;32m    987\u001b[0m                 \u001b[0;32mreturn\u001b[0m \u001b[0mresponse\u001b[0m\u001b[0;34m,\u001b[0m \u001b[0mself\u001b[0m\u001b[0;34m.\u001b[0m\u001b[0m_create_connection_guard\u001b[0m\u001b[0;34m(\u001b[0m\u001b[0mconnection\u001b[0m\u001b[0;34m)\u001b[0m\u001b[0;34m\u001b[0m\u001b[0m\n",
      "\u001b[0;32m/opt/spark/spark-2.3.2-bin-hadoop2.7/python/lib/py4j-0.10.7-src.zip/py4j/java_gateway.py\u001b[0m in \u001b[0;36msend_command\u001b[0;34m(self, command)\u001b[0m\n\u001b[1;32m   1150\u001b[0m \u001b[0;34m\u001b[0m\u001b[0m\n\u001b[1;32m   1151\u001b[0m         \u001b[0;32mtry\u001b[0m\u001b[0;34m:\u001b[0m\u001b[0;34m\u001b[0m\u001b[0m\n\u001b[0;32m-> 1152\u001b[0;31m             \u001b[0manswer\u001b[0m \u001b[0;34m=\u001b[0m \u001b[0msmart_decode\u001b[0m\u001b[0;34m(\u001b[0m\u001b[0mself\u001b[0m\u001b[0;34m.\u001b[0m\u001b[0mstream\u001b[0m\u001b[0;34m.\u001b[0m\u001b[0mreadline\u001b[0m\u001b[0;34m(\u001b[0m\u001b[0;34m)\u001b[0m\u001b[0;34m[\u001b[0m\u001b[0;34m:\u001b[0m\u001b[0;34m-\u001b[0m\u001b[0;36m1\u001b[0m\u001b[0;34m]\u001b[0m\u001b[0;34m)\u001b[0m\u001b[0;34m\u001b[0m\u001b[0m\n\u001b[0m\u001b[1;32m   1153\u001b[0m             \u001b[0mlogger\u001b[0m\u001b[0;34m.\u001b[0m\u001b[0mdebug\u001b[0m\u001b[0;34m(\u001b[0m\u001b[0;34m\"Answer received: {0}\"\u001b[0m\u001b[0;34m.\u001b[0m\u001b[0mformat\u001b[0m\u001b[0;34m(\u001b[0m\u001b[0manswer\u001b[0m\u001b[0;34m)\u001b[0m\u001b[0;34m)\u001b[0m\u001b[0;34m\u001b[0m\u001b[0m\n\u001b[1;32m   1154\u001b[0m             \u001b[0;32mif\u001b[0m \u001b[0manswer\u001b[0m\u001b[0;34m.\u001b[0m\u001b[0mstartswith\u001b[0m\u001b[0;34m(\u001b[0m\u001b[0mproto\u001b[0m\u001b[0;34m.\u001b[0m\u001b[0mRETURN_MESSAGE\u001b[0m\u001b[0;34m)\u001b[0m\u001b[0;34m:\u001b[0m\u001b[0;34m\u001b[0m\u001b[0m\n",
      "\u001b[0;32m/opt/anaconda/lib/python3.6/socket.py\u001b[0m in \u001b[0;36mreadinto\u001b[0;34m(self, b)\u001b[0m\n\u001b[1;32m    584\u001b[0m         \u001b[0;32mwhile\u001b[0m \u001b[0;32mTrue\u001b[0m\u001b[0;34m:\u001b[0m\u001b[0;34m\u001b[0m\u001b[0m\n\u001b[1;32m    585\u001b[0m             \u001b[0;32mtry\u001b[0m\u001b[0;34m:\u001b[0m\u001b[0;34m\u001b[0m\u001b[0m\n\u001b[0;32m--> 586\u001b[0;31m                 \u001b[0;32mreturn\u001b[0m \u001b[0mself\u001b[0m\u001b[0;34m.\u001b[0m\u001b[0m_sock\u001b[0m\u001b[0;34m.\u001b[0m\u001b[0mrecv_into\u001b[0m\u001b[0;34m(\u001b[0m\u001b[0mb\u001b[0m\u001b[0;34m)\u001b[0m\u001b[0;34m\u001b[0m\u001b[0m\n\u001b[0m\u001b[1;32m    587\u001b[0m             \u001b[0;32mexcept\u001b[0m \u001b[0mtimeout\u001b[0m\u001b[0;34m:\u001b[0m\u001b[0;34m\u001b[0m\u001b[0m\n\u001b[1;32m    588\u001b[0m                 \u001b[0mself\u001b[0m\u001b[0;34m.\u001b[0m\u001b[0m_timeout_occurred\u001b[0m \u001b[0;34m=\u001b[0m \u001b[0;32mTrue\u001b[0m\u001b[0;34m\u001b[0m\u001b[0m\n",
      "\u001b[0;31mKeyboardInterrupt\u001b[0m: "
     ]
    }
   ],
   "source": [
    "get_time_analysis(by_time, 'year')"
   ]
  },
  {
   "cell_type": "code",
   "execution_count": null,
   "metadata": {},
   "outputs": [],
   "source": [
    "get_time_analysis(by_time, 'dayofweek')"
   ]
  },
  {
   "cell_type": "code",
   "execution_count": null,
   "metadata": {},
   "outputs": [],
   "source": [
    "get_time_analysis(by_time, 'dayofmonth')"
   ]
  },
  {
   "cell_type": "markdown",
   "metadata": {},
   "source": [
    "## 2.4 Text analysis"
   ]
  },
  {
   "cell_type": "code",
   "execution_count": 146,
   "metadata": {},
   "outputs": [
    {
     "data": {
      "text/plain": [
       "DataFrame[star_rating: string, title_length: string, body_length: string, review_id: string]"
      ]
     },
     "execution_count": 146,
     "metadata": {},
     "output_type": "execute_result"
    }
   ],
   "source": [
    "div_by_10 = udf(lambda x : 0 if x is None else 1*int(x / 10))\n",
    "div_by_100 = udf(lambda x : 0 if x is None else 10*int(x / 100))\n",
    "by_review_length = data.select(data['star_rating'], \\\n",
    "                               div_by_10(length(data['review_headline'])).alias('title_length'), \\\n",
    "                               div_by_100(length(data['review_body'])).alias('body_length'), \\\n",
    "                                      data['review_id'])\n",
    "by_review_length.persist()"
   ]
  },
  {
   "cell_type": "code",
   "execution_count": 147,
   "metadata": {},
   "outputs": [
    {
     "name": "stdout",
     "output_type": "stream",
     "text": [
      "+-----------+------------+-----------+--------------+\n",
      "|star_rating|title_length|body_length|     review_id|\n",
      "+-----------+------------+-----------+--------------+\n",
      "|          5|           1|          0| RJOVP071AVAJO|\n",
      "|          5|           6|         30|R1ORGBETCDW3AI|\n",
      "|          5|           1|          0| R7TNRFQAOUTX5|\n",
      "|          5|           1|          0|R2GANXKDIFZ6OI|\n",
      "|          5|           1|          0|R2NYB6C3R8LVN6|\n",
      "|          2|           3|        150|R13U5PBJI1H94K|\n",
      "|          5|           5|         70|R1H8UVH990F8VE|\n",
      "|          5|           1|          0|R2MC0N30WZMRQ5|\n",
      "|          5|           1|          0| R2NO2HXK16Y4J|\n",
      "|          5|           1|          0|R245YIAVJK82ZL|\n",
      "|          5|           1|          0| RFBMLBWQOZ1UM|\n",
      "|          5|           3|         10| RHE1FEWV3KTQH|\n",
      "|          5|           1|          0|R2BB9U7PHO7ETO|\n",
      "|          4|           1|          0|R28XJJP754GYXO|\n",
      "|          3|           7|         20|R2G519UREHRO8M|\n",
      "|          5|           1|          0| RPBKCEIN3UISD|\n",
      "|          5|           1|         20|R2DOB8482VGJ8W|\n",
      "|          5|           2|         10|R2XKOET5M8W36S|\n",
      "|          5|           5|          0|R377BCSTZ4D2QP|\n",
      "|          5|           8|         10|R3A39XZ5SB97MK|\n",
      "+-----------+------------+-----------+--------------+\n",
      "only showing top 20 rows\n",
      "\n"
     ]
    }
   ],
   "source": [
    "by_review_length.show()"
   ]
  },
  {
   "cell_type": "code",
   "execution_count": 148,
   "metadata": {},
   "outputs": [
    {
     "data": {
      "text/plain": [
       "DataFrame[title_length: string, count: bigint, rating: double]"
      ]
     },
     "execution_count": 148,
     "metadata": {},
     "output_type": "execute_result"
    }
   ],
   "source": [
    "\n",
    "by_title_length = by_review_length.where('title_length < 300').groupby('title_length').agg({'star_rating':'avg', 'review_id':'count'}).\\\n",
    "                    withColumnRenamed('avg(star_rating)', 'rating').withColumnRenamed('count(review_id)', 'count')\n",
    "by_title_length.persist()"
   ]
  },
  {
   "cell_type": "code",
   "execution_count": 149,
   "metadata": {},
   "outputs": [
    {
     "data": {
      "text/plain": [
       "<matplotlib.collections.PathCollection at 0x7f9b0bc104a8>"
      ]
     },
     "execution_count": 149,
     "metadata": {},
     "output_type": "execute_result"
    },
    {
     "data": {
      "image/png": "[encoded data removed]",
      "text/plain": [
       "<Figure size 432x288 with 1 Axes>"
      ]
     },
     "metadata": {},
     "output_type": "display_data"
    }
   ],
   "source": [
    "by_title_length_pd = by_title_length.toPandas()\n",
    "by_title_length_pd\n",
    "plt.scatter(by_title_length_pd['title_length'], by_title_length_pd['rating'])"
   ]
  },
  {
   "cell_type": "code",
   "execution_count": 35,
   "metadata": {},
   "outputs": [
    {
     "data": {
      "text/plain": [
       "DataFrame[body_length: string, count: bigint, rating: double]"
      ]
     },
     "execution_count": 35,
     "metadata": {},
     "output_type": "execute_result"
    }
   ],
   "source": [
    "by_body_length = by_review_length.groupby('body_length').agg({'star_rating':'avg', 'review_id':'count'}) \\\n",
    "                    .withColumnRenamed('avg(star_rating)', 'rating').withColumnRenamed('count(review_id)', 'count')\n",
    "by_body_length.persist()"
   ]
  },
  {
   "cell_type": "code",
   "execution_count": null,
   "metadata": {},
   "outputs": [],
   "source": [
    "by_body_length.count()"
   ]
  },
  {
   "cell_type": "code",
   "execution_count": null,
   "metadata": {},
   "outputs": [
    {
     "data": {
      "text/plain": [
       "[<matplotlib.lines.Line2D at 0x7f9319bfada0>]"
      ]
     },
     "execution_count": 36,
     "metadata": {},
     "output_type": "execute_result"
    }
   ],
   "source": [
    "by_body_length_pd = by_body_length.toPandas()\n",
    "by_body_length_pd\n",
    "plt.plot(by_body_length_pd['body_length'], by_body_length_pd['count'])"
   ]
  },
  {
   "cell_type": "markdown",
   "metadata": {},
   "source": [
    "## 2.5 Comparaison betwen countries"
   ]
  },
  {
   "cell_type": "markdown",
   "metadata": {},
   "source": [
    "Compare for common articles on the same time period, do analysis. => Get average rating for country"
   ]
  },
  {
   "cell_type": "markdown",
   "metadata": {},
   "source": [
    "## 2.6 Herding behavior"
   ]
  },
  {
   "cell_type": "markdown",
   "metadata": {},
   "source": [
    "Do we have enough data to perform this analysis ?"
   ]
  },
  {
   "cell_type": "markdown",
   "metadata": {},
   "source": [
    "For common articles in every countries, get the first review and compare it to the average review. Correct the bias due to the difference between countries."
   ]
  }
 ],
 "metadata": {
  "kernelspec": {
   "display_name": "Python 3",
   "language": "python",
   "name": "python3"
  },
  "language_info": {
   "codemirror_mode": {
    "name": "ipython",
    "version": 3
   },
   "file_extension": ".py",
   "mimetype": "text/x-python",
   "name": "python",
   "nbconvert_exporter": "python",
   "pygments_lexer": "ipython3",
   "version": "3.6.5"
  }
 },
 "nbformat": 4,
 "nbformat_minor": 2
}
