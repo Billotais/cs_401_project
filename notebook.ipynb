{
 "cells": [
  {
   "cell_type": "markdown",
   "metadata": {},
   "source": [
    "# Milestone 2\n",
    "## 2.1 Imports and data loading"
   ]
  },
  {
   "cell_type": "code",
   "execution_count": 32,
   "metadata": {},
   "outputs": [],
   "source": [
    "import findspark\n",
    "findspark.init()\n",
    "from pyspark.sql import *\n",
    "spark = SparkSession.builder.getOrCreate()\n",
    "\n",
    "import matplotlib.pyplot as plt\n",
    "import numpy as np\n",
    "from pyspark.sql.functions import to_timestamp, dayofmonth, month, year, length, udf\n",
    "\n",
    "import seaborn as sns"
   ]
  },
  {
   "cell_type": "code",
   "execution_count": 2,
   "metadata": {},
   "outputs": [],
   "source": [
    "DATA_PATH = 'data/'\n",
    "FILE_NAME_00 = 'amazon_reviews_us_Books_v1_00.tsv.gz'\n",
    "FILE_NAME_01 = 'amazon_reviews_us_Books_v1_01.tsv.gz'\n",
    "FILE_NAME_02 = 'amazon_reviews_us_Books_v1_02.tsv.gz'"
   ]
  },
  {
   "cell_type": "code",
   "execution_count": 34,
   "metadata": {},
   "outputs": [],
   "source": [
    "data_00 = spark.read.option(\"sep\", \"\\t\").option(\"header\", \"true\").csv(DATA_PATH + FILE_NAME_00)\n",
    "data_01 = spark.read.option(\"sep\", \"\\t\").option(\"header\", \"true\").csv(DATA_PATH + FILE_NAME_01)\n",
    "data_02 = spark.read.option(\"sep\", \"\\t\").option(\"header\", \"true\").csv(DATA_PATH + FILE_NAME_02)\n",
    "\n",
    "#data = data_00.union(data_01).union(data_02)\n",
    "data = data_00"
   ]
  },
  {
   "cell_type": "code",
   "execution_count": 35,
   "metadata": {},
   "outputs": [
    {
     "data": {
      "text/plain": [
       "DataFrame[product_id: string, product_title: string, count(review_id): bigint, sum(total_votes): double, avg(star_rating): double, sum(helpful_votes): double]"
      ]
     },
     "execution_count": 35,
     "metadata": {},
     "output_type": "execute_result"
    }
   ],
   "source": [
    "avg_stars = data.groupby('product_id', 'product_title').agg({\"star_rating\" : \"avg\", \"review_id\" : \"count\", \"helpful_votes\" : \"sum\", \"total_votes\" : \"sum\"})\n",
    "avg_stars.persist()"
   ]
  },
  {
   "cell_type": "code",
   "execution_count": 36,
   "metadata": {},
   "outputs": [],
   "source": [
    "avg_stars = avg_stars.withColumnRenamed('count(review_id)', 'n_reviews') \\\n",
    "                        .withColumnRenamed('sum(total_votes)', 'total_votes') \\\n",
    "                        .withColumnRenamed('sum(helpful_votes)', 'helpful_votes') \\\n",
    "                        .withColumnRenamed('avg(star_rating)', 'rating') \\"
   ]
  },
  {
   "cell_type": "code",
   "execution_count": 37,
   "metadata": {},
   "outputs": [
    {
     "name": "stdout",
     "output_type": "stream",
     "text": [
      "+----------+--------------------+---------+-----------+------------------+-------------+\n",
      "|product_id|       product_title|n_reviews|total_votes|            rating|helpful_votes|\n",
      "+----------+--------------------+---------+-----------+------------------+-------------+\n",
      "|014241543X|           If I Stay|      857|     1331.0| 4.141190198366394|       1090.0|\n",
      "|0062091158|     King (Prophecy)|        2|        1.0|               4.0|          1.0|\n",
      "|1250056608|Rough Justice: Si...|       12|        7.0|              4.25|          7.0|\n",
      "|0340909129|Do It Tomorrow an...|       12|       52.0| 4.666666666666667|         33.0|\n",
      "|1937013200|Savage Worlds Del...|       86|      125.0| 4.848837209302325|        110.0|\n",
      "|019513172X|Nothing but Chris...|        1|        0.0|               5.0|          0.0|\n",
      "|0736432841|Anna & Elsa #1: A...|       42|       70.0| 4.619047619047619|         59.0|\n",
      "|1940484138|Common Core Asses...|       13|       22.0|3.6923076923076925|         17.0|\n",
      "|0307476073|Wild: From Lost t...|     1350|     2734.0| 4.099259259259259|       2203.0|\n",
      "|1416299025|Outlander 2016 Bo...|       11|       54.0|4.7272727272727275|         50.0|\n",
      "|1743214022|Lonely Planet Cro...|        3|        4.0|               5.0|          2.0|\n",
      "|B001IF2MG6|Calligraphy the K...|        1|        0.0|               3.0|          0.0|\n",
      "|B00UZGLL02|Mermaid Juniors' ...|        1|        0.0|               5.0|          0.0|\n",
      "|0060192674|Everything You Al...|        5|       14.0|               4.2|          5.0|\n",
      "|1423422198|Swing Favorites -...|        2|        0.0|               4.5|          0.0|\n",
      "|1572840994|Gluten-Free Bakin...|      160|      286.0|           4.50625|        158.0|\n",
      "|8888166122|Italia in Cucina:...|        4|        1.0|               5.0|          1.0|\n",
      "|0803740123|             Tracked|       12|       29.0| 4.583333333333333|         16.0|\n",
      "|0062433652|Go Set a Watchman...|       76|      203.0|3.8947368421052633|         96.0|\n",
      "|0590043749|State-by-State Gu...|        4|        0.0|               5.0|          0.0|\n",
      "+----------+--------------------+---------+-----------+------------------+-------------+\n",
      "only showing top 20 rows\n",
      "\n"
     ]
    }
   ],
   "source": [
    "avg_stars.show()"
   ]
  },
  {
   "cell_type": "code",
   "execution_count": 56,
   "metadata": {},
   "outputs": [
    {
     "data": {
      "text/plain": [
       "2274618"
      ]
     },
     "execution_count": 56,
     "metadata": {},
     "output_type": "execute_result"
    }
   ],
   "source": [
    "avg_stars.count()"
   ]
  },
  {
   "cell_type": "code",
   "execution_count": 38,
   "metadata": {},
   "outputs": [],
   "source": [
    "main_avg_stars = avg_stars.where('n_reviews > 10')"
   ]
  },
  {
   "cell_type": "code",
   "execution_count": 39,
   "metadata": {},
   "outputs": [
    {
     "name": "stdout",
     "output_type": "stream",
     "text": [
      "+----------+--------------------+---------+-----------+------------------+-------------+\n",
      "|product_id|       product_title|n_reviews|total_votes|            rating|helpful_votes|\n",
      "+----------+--------------------+---------+-----------+------------------+-------------+\n",
      "|014241543X|           If I Stay|      857|     1331.0| 4.141190198366394|       1090.0|\n",
      "|1250056608|Rough Justice: Si...|       12|        7.0|              4.25|          7.0|\n",
      "|0340909129|Do It Tomorrow an...|       12|       52.0| 4.666666666666667|         33.0|\n",
      "|1937013200|Savage Worlds Del...|       86|      125.0| 4.848837209302325|        110.0|\n",
      "|0736432841|Anna & Elsa #1: A...|       42|       70.0| 4.619047619047619|         59.0|\n",
      "|1940484138|Common Core Asses...|       13|       22.0|3.6923076923076925|         17.0|\n",
      "|0307476073|Wild: From Lost t...|     1350|     2734.0| 4.099259259259259|       2203.0|\n",
      "|1416299025|Outlander 2016 Bo...|       11|       54.0|4.7272727272727275|         50.0|\n",
      "|1572840994|Gluten-Free Bakin...|      160|      286.0|           4.50625|        158.0|\n",
      "|0803740123|             Tracked|       12|       29.0| 4.583333333333333|         16.0|\n",
      "|0062433652|Go Set a Watchman...|       76|      203.0|3.8947368421052633|         96.0|\n",
      "|1938486315|Living with Loss:...|       66|       16.0|               5.0|         15.0|\n",
      "|1119052440|Gluten-Free All-I...|       15|       31.0|               4.6|         20.0|\n",
      "|1935071556|The Islamic Antic...|       78|      122.0| 4.769230769230769|         60.0|\n",
      "|0205116140|American Governme...|       11|       20.0| 3.909090909090909|          5.0|\n",
      "|0071738576|Microsoft Access ...|       14|       20.0| 4.142857142857143|         18.0|\n",
      "|0470547847|Fundamentals of B...|       24|       90.0|             3.875|         39.0|\n",
      "|1476789630|Luckiest Girl Ali...|      222|     2011.0|3.1936936936936937|       1725.0|\n",
      "|0486488349|Creative Haven Sk...|       19|      133.0|4.7368421052631575|        130.0|\n",
      "|0071835571|CEH Certified Eth...|       15|       82.0| 4.066666666666666|         44.0|\n",
      "+----------+--------------------+---------+-----------+------------------+-------------+\n",
      "only showing top 20 rows\n",
      "\n"
     ]
    }
   ],
   "source": [
    "main_avg_stars.show()"
   ]
  },
  {
   "cell_type": "code",
   "execution_count": 40,
   "metadata": {},
   "outputs": [
    {
     "data": {
      "text/plain": [
       "173707"
      ]
     },
     "execution_count": 40,
     "metadata": {},
     "output_type": "execute_result"
    }
   ],
   "source": [
    "main_avg_stars.count()"
   ]
  },
  {
   "cell_type": "code",
   "execution_count": 41,
   "metadata": {},
   "outputs": [],
   "source": [
    "by_product = main_avg_stars.toPandas()"
   ]
  },
  {
   "cell_type": "code",
   "execution_count": 42,
   "metadata": {},
   "outputs": [],
   "source": [
    "by_product['ratio_helpful'] = by_product['helpful_votes'] / by_product['total_votes']"
   ]
  },
  {
   "cell_type": "code",
   "execution_count": 55,
   "metadata": {},
   "outputs": [
    {
     "data": {
      "text/html": [
       "<div>\n",
       "<style scoped>\n",
       "    .dataframe tbody tr th:only-of-type {\n",
       "        vertical-align: middle;\n",
       "    }\n",
       "\n",
       "    .dataframe tbody tr th {\n",
       "        vertical-align: top;\n",
       "    }\n",
       "\n",
       "    .dataframe thead th {\n",
       "        text-align: right;\n",
       "    }\n",
       "</style>\n",
       "<table border=\"1\" class=\"dataframe\">\n",
       "  <thead>\n",
       "    <tr style=\"text-align: right;\">\n",
       "      <th></th>\n",
       "      <th>product_id</th>\n",
       "      <th>product_title</th>\n",
       "      <th>n_reviews</th>\n",
       "      <th>total_votes</th>\n",
       "      <th>rating</th>\n",
       "      <th>helpful_votes</th>\n",
       "      <th>ratio_helpful</th>\n",
       "    </tr>\n",
       "  </thead>\n",
       "  <tbody>\n",
       "    <tr>\n",
       "      <th>91887</th>\n",
       "      <td>031042366X</td>\n",
       "      <td>NASB, Skinii Bible, Imitation Leather, Black</td>\n",
       "      <td>11</td>\n",
       "      <td>42.0</td>\n",
       "      <td>4.272727</td>\n",
       "      <td>27.0</td>\n",
       "      <td>0.642857</td>\n",
       "    </tr>\n",
       "    <tr>\n",
       "      <th>24404</th>\n",
       "      <td>0446578223</td>\n",
       "      <td>Single, Saved, and Having Sex</td>\n",
       "      <td>11</td>\n",
       "      <td>1.0</td>\n",
       "      <td>4.636364</td>\n",
       "      <td>0.0</td>\n",
       "      <td>0.000000</td>\n",
       "    </tr>\n",
       "    <tr>\n",
       "      <th>69573</th>\n",
       "      <td>0825434831</td>\n",
       "      <td>Bible Explorer's Guide: How to Understand and ...</td>\n",
       "      <td>11</td>\n",
       "      <td>1.0</td>\n",
       "      <td>4.636364</td>\n",
       "      <td>1.0</td>\n",
       "      <td>1.000000</td>\n",
       "    </tr>\n",
       "    <tr>\n",
       "      <th>24398</th>\n",
       "      <td>0439376459</td>\n",
       "      <td>Ricky Ricotta's Mighty Robot vs. The Stupid St...</td>\n",
       "      <td>11</td>\n",
       "      <td>1.0</td>\n",
       "      <td>4.636364</td>\n",
       "      <td>0.0</td>\n",
       "      <td>0.000000</td>\n",
       "    </tr>\n",
       "    <tr>\n",
       "      <th>152302</th>\n",
       "      <td>0805091319</td>\n",
       "      <td>Revolutionary Russia, 1891-1991: A History</td>\n",
       "      <td>11</td>\n",
       "      <td>168.0</td>\n",
       "      <td>4.636364</td>\n",
       "      <td>138.0</td>\n",
       "      <td>0.821429</td>\n",
       "    </tr>\n",
       "    <tr>\n",
       "      <th>152303</th>\n",
       "      <td>0805094946</td>\n",
       "      <td>The Land of Decoration: A Novel</td>\n",
       "      <td>11</td>\n",
       "      <td>6.0</td>\n",
       "      <td>4.000000</td>\n",
       "      <td>5.0</td>\n",
       "      <td>0.833333</td>\n",
       "    </tr>\n",
       "    <tr>\n",
       "      <th>111758</th>\n",
       "      <td>161614680X</td>\n",
       "      <td>London Eye (Toxic City)</td>\n",
       "      <td>11</td>\n",
       "      <td>17.0</td>\n",
       "      <td>3.454545</td>\n",
       "      <td>14.0</td>\n",
       "      <td>0.823529</td>\n",
       "    </tr>\n",
       "    <tr>\n",
       "      <th>69582</th>\n",
       "      <td>0843174919</td>\n",
       "      <td>Follow Your Heart: Finding Purpose in Your Lif...</td>\n",
       "      <td>11</td>\n",
       "      <td>7.0</td>\n",
       "      <td>4.727273</td>\n",
       "      <td>6.0</td>\n",
       "      <td>0.857143</td>\n",
       "    </tr>\n",
       "    <tr>\n",
       "      <th>69590</th>\n",
       "      <td>0870612417</td>\n",
       "      <td>Interior Castle: The Classic Text With a Spiri...</td>\n",
       "      <td>11</td>\n",
       "      <td>21.0</td>\n",
       "      <td>4.818182</td>\n",
       "      <td>11.0</td>\n",
       "      <td>0.523810</td>\n",
       "    </tr>\n",
       "    <tr>\n",
       "      <th>69594</th>\n",
       "      <td>0882661779</td>\n",
       "      <td>Braiding Rugs: A Storey Country Wisdom Bulleti...</td>\n",
       "      <td>11</td>\n",
       "      <td>13.0</td>\n",
       "      <td>3.727273</td>\n",
       "      <td>7.0</td>\n",
       "      <td>0.538462</td>\n",
       "    </tr>\n",
       "    <tr>\n",
       "      <th>111771</th>\n",
       "      <td>162032105X</td>\n",
       "      <td>Seven Congregations in a Roman Crucible: A Com...</td>\n",
       "      <td>11</td>\n",
       "      <td>19.0</td>\n",
       "      <td>4.818182</td>\n",
       "      <td>15.0</td>\n",
       "      <td>0.789474</td>\n",
       "    </tr>\n",
       "    <tr>\n",
       "      <th>152318</th>\n",
       "      <td>0823096157</td>\n",
       "      <td>Facial Expressions Babies to Teens: A Visual R...</td>\n",
       "      <td>11</td>\n",
       "      <td>5.0</td>\n",
       "      <td>4.454545</td>\n",
       "      <td>3.0</td>\n",
       "      <td>0.600000</td>\n",
       "    </tr>\n",
       "    <tr>\n",
       "      <th>152322</th>\n",
       "      <td>0826211216</td>\n",
       "      <td>Orphan Trains to Missouri (MISSOURI HERITAGE R...</td>\n",
       "      <td>11</td>\n",
       "      <td>10.0</td>\n",
       "      <td>4.636364</td>\n",
       "      <td>10.0</td>\n",
       "      <td>1.000000</td>\n",
       "    </tr>\n",
       "    <tr>\n",
       "      <th>24373</th>\n",
       "      <td>0393326721</td>\n",
       "      <td>The T-Factor Fat Gram Counter (Revised and Upd...</td>\n",
       "      <td>11</td>\n",
       "      <td>7.0</td>\n",
       "      <td>4.272727</td>\n",
       "      <td>7.0</td>\n",
       "      <td>1.000000</td>\n",
       "    </tr>\n",
       "    <tr>\n",
       "      <th>24372</th>\n",
       "      <td>0393322807</td>\n",
       "      <td>Reflections in Black: A History of Black Photo...</td>\n",
       "      <td>11</td>\n",
       "      <td>0.0</td>\n",
       "      <td>4.636364</td>\n",
       "      <td>0.0</td>\n",
       "      <td>NaN</td>\n",
       "    </tr>\n",
       "    <tr>\n",
       "      <th>69604</th>\n",
       "      <td>0918222982</td>\n",
       "      <td>American Frugal Housewife: Dedicated to Those ...</td>\n",
       "      <td>11</td>\n",
       "      <td>3.0</td>\n",
       "      <td>4.909091</td>\n",
       "      <td>3.0</td>\n",
       "      <td>1.000000</td>\n",
       "    </tr>\n",
       "    <tr>\n",
       "      <th>111734</th>\n",
       "      <td>160468285X</td>\n",
       "      <td>25 Patchwork Quilt Blocks: Projects and Inspir...</td>\n",
       "      <td>11</td>\n",
       "      <td>3.0</td>\n",
       "      <td>5.000000</td>\n",
       "      <td>2.0</td>\n",
       "      <td>0.666667</td>\n",
       "    </tr>\n",
       "    <tr>\n",
       "      <th>152325</th>\n",
       "      <td>0830826955</td>\n",
       "      <td>The Mosaic of Christian Belief: Twenty Centuri...</td>\n",
       "      <td>11</td>\n",
       "      <td>24.0</td>\n",
       "      <td>4.363636</td>\n",
       "      <td>4.0</td>\n",
       "      <td>0.166667</td>\n",
       "    </tr>\n",
       "    <tr>\n",
       "      <th>69606</th>\n",
       "      <td>0922915970</td>\n",
       "      <td>Sex and Rockets: The Occult World of Jack Parsons</td>\n",
       "      <td>11</td>\n",
       "      <td>60.0</td>\n",
       "      <td>3.272727</td>\n",
       "      <td>25.0</td>\n",
       "      <td>0.416667</td>\n",
       "    </tr>\n",
       "    <tr>\n",
       "      <th>69607</th>\n",
       "      <td>0925190861</td>\n",
       "      <td>Remembering with Love: Messages of Hope for th...</td>\n",
       "      <td>11</td>\n",
       "      <td>3.0</td>\n",
       "      <td>4.909091</td>\n",
       "      <td>2.0</td>\n",
       "      <td>0.666667</td>\n",
       "    </tr>\n",
       "    <tr>\n",
       "      <th>69610</th>\n",
       "      <td>0935696474</td>\n",
       "      <td>Keep on the Borderlands Dungeon Module B2: Dun...</td>\n",
       "      <td>11</td>\n",
       "      <td>59.0</td>\n",
       "      <td>4.636364</td>\n",
       "      <td>39.0</td>\n",
       "      <td>0.661017</td>\n",
       "    </tr>\n",
       "    <tr>\n",
       "      <th>152320</th>\n",
       "      <td>082544294X</td>\n",
       "      <td>Badge of Honor (Goldtown Adventures)</td>\n",
       "      <td>11</td>\n",
       "      <td>5.0</td>\n",
       "      <td>5.000000</td>\n",
       "      <td>4.0</td>\n",
       "      <td>0.800000</td>\n",
       "    </tr>\n",
       "    <tr>\n",
       "      <th>152333</th>\n",
       "      <td>0847832643</td>\n",
       "      <td>The Hudson River School: Nature and the Americ...</td>\n",
       "      <td>11</td>\n",
       "      <td>32.0</td>\n",
       "      <td>4.909091</td>\n",
       "      <td>20.0</td>\n",
       "      <td>0.625000</td>\n",
       "    </tr>\n",
       "    <tr>\n",
       "      <th>111774</th>\n",
       "      <td>1620920980</td>\n",
       "      <td>Chevrolet Silverado, GMC Sierra 2007 - 2013, 2...</td>\n",
       "      <td>11</td>\n",
       "      <td>8.0</td>\n",
       "      <td>3.727273</td>\n",
       "      <td>5.0</td>\n",
       "      <td>0.625000</td>\n",
       "    </tr>\n",
       "    <tr>\n",
       "      <th>152284</th>\n",
       "      <td>0789315491</td>\n",
       "      <td>This is Rome: A Children's Classic</td>\n",
       "      <td>11</td>\n",
       "      <td>4.0</td>\n",
       "      <td>4.818182</td>\n",
       "      <td>4.0</td>\n",
       "      <td>1.000000</td>\n",
       "    </tr>\n",
       "    <tr>\n",
       "      <th>24464</th>\n",
       "      <td>0618051597</td>\n",
       "      <td>On Mother's Lap</td>\n",
       "      <td>11</td>\n",
       "      <td>4.0</td>\n",
       "      <td>4.545455</td>\n",
       "      <td>3.0</td>\n",
       "      <td>0.750000</td>\n",
       "    </tr>\n",
       "    <tr>\n",
       "      <th>24461</th>\n",
       "      <td>061586144X</td>\n",
       "      <td>Sticky Faith Launch Kit: Your Next 180 Days To...</td>\n",
       "      <td>11</td>\n",
       "      <td>27.0</td>\n",
       "      <td>4.818182</td>\n",
       "      <td>17.0</td>\n",
       "      <td>0.629630</td>\n",
       "    </tr>\n",
       "    <tr>\n",
       "      <th>111804</th>\n",
       "      <td>1888538120</td>\n",
       "      <td>Costa Rica Wildlife Guide (Laminated Foldout P...</td>\n",
       "      <td>11</td>\n",
       "      <td>30.0</td>\n",
       "      <td>5.000000</td>\n",
       "      <td>28.0</td>\n",
       "      <td>0.933333</td>\n",
       "    </tr>\n",
       "    <tr>\n",
       "      <th>111803</th>\n",
       "      <td>1887571175</td>\n",
       "      <td>Physical Assessment of the Newborn: A Comprehe...</td>\n",
       "      <td>11</td>\n",
       "      <td>7.0</td>\n",
       "      <td>4.818182</td>\n",
       "      <td>1.0</td>\n",
       "      <td>0.142857</td>\n",
       "    </tr>\n",
       "    <tr>\n",
       "      <th>69526</th>\n",
       "      <td>0778327965</td>\n",
       "      <td>Ghost Moon (The Bone Island Trilogy)</td>\n",
       "      <td>11</td>\n",
       "      <td>2.0</td>\n",
       "      <td>4.818182</td>\n",
       "      <td>2.0</td>\n",
       "      <td>1.000000</td>\n",
       "    </tr>\n",
       "    <tr>\n",
       "      <th>...</th>\n",
       "      <td>...</td>\n",
       "      <td>...</td>\n",
       "      <td>...</td>\n",
       "      <td>...</td>\n",
       "      <td>...</td>\n",
       "      <td>...</td>\n",
       "      <td>...</td>\n",
       "    </tr>\n",
       "    <tr>\n",
       "      <th>33816</th>\n",
       "      <td>0062238868</td>\n",
       "      <td>American Sniper: The Autobiography of the Most...</td>\n",
       "      <td>2001</td>\n",
       "      <td>5670.0</td>\n",
       "      <td>4.592204</td>\n",
       "      <td>2452.0</td>\n",
       "      <td>0.432451</td>\n",
       "    </tr>\n",
       "    <tr>\n",
       "      <th>164952</th>\n",
       "      <td>0803741715</td>\n",
       "      <td>The Book with No Pictures</td>\n",
       "      <td>2013</td>\n",
       "      <td>4863.0</td>\n",
       "      <td>4.747144</td>\n",
       "      <td>3521.0</td>\n",
       "      <td>0.724039</td>\n",
       "    </tr>\n",
       "    <tr>\n",
       "      <th>77410</th>\n",
       "      <td>0805096663</td>\n",
       "      <td>Killing Kennedy: The End of Camelot</td>\n",
       "      <td>2048</td>\n",
       "      <td>17414.0</td>\n",
       "      <td>4.210449</td>\n",
       "      <td>9888.0</td>\n",
       "      <td>0.567819</td>\n",
       "    </tr>\n",
       "    <tr>\n",
       "      <th>161449</th>\n",
       "      <td>0061950726</td>\n",
       "      <td>Orphan Train</td>\n",
       "      <td>2050</td>\n",
       "      <td>4158.0</td>\n",
       "      <td>4.530732</td>\n",
       "      <td>3428.0</td>\n",
       "      <td>0.824435</td>\n",
       "    </tr>\n",
       "    <tr>\n",
       "      <th>78780</th>\n",
       "      <td>0399255370</td>\n",
       "      <td>The Day the Crayons Quit</td>\n",
       "      <td>2064</td>\n",
       "      <td>6596.0</td>\n",
       "      <td>4.723837</td>\n",
       "      <td>3643.0</td>\n",
       "      <td>0.552304</td>\n",
       "    </tr>\n",
       "    <tr>\n",
       "      <th>97934</th>\n",
       "      <td>0312510780</td>\n",
       "      <td>First 100 Words</td>\n",
       "      <td>2086</td>\n",
       "      <td>1968.0</td>\n",
       "      <td>4.530201</td>\n",
       "      <td>1707.0</td>\n",
       "      <td>0.867378</td>\n",
       "    </tr>\n",
       "    <tr>\n",
       "      <th>146456</th>\n",
       "      <td>1609611543</td>\n",
       "      <td>Wheat Belly: Lose the Wheat, Lose the Weight, ...</td>\n",
       "      <td>2093</td>\n",
       "      <td>8344.0</td>\n",
       "      <td>4.376971</td>\n",
       "      <td>5736.0</td>\n",
       "      <td>0.687440</td>\n",
       "    </tr>\n",
       "    <tr>\n",
       "      <th>79661</th>\n",
       "      <td>1476746583</td>\n",
       "      <td>All the Light We Cannot See</td>\n",
       "      <td>2206</td>\n",
       "      <td>7196.0</td>\n",
       "      <td>4.490934</td>\n",
       "      <td>5590.0</td>\n",
       "      <td>0.776820</td>\n",
       "    </tr>\n",
       "    <tr>\n",
       "      <th>93691</th>\n",
       "      <td>0316376469</td>\n",
       "      <td>The Food Babe Way: Break Free from the Hidden ...</td>\n",
       "      <td>2231</td>\n",
       "      <td>101303.0</td>\n",
       "      <td>4.335724</td>\n",
       "      <td>41007.0</td>\n",
       "      <td>0.404796</td>\n",
       "    </tr>\n",
       "    <tr>\n",
       "      <th>105072</th>\n",
       "      <td>0316055433</td>\n",
       "      <td>The Goldfinch: A Novel (Pulitzer Prize for Fic...</td>\n",
       "      <td>2257</td>\n",
       "      <td>11165.0</td>\n",
       "      <td>3.580860</td>\n",
       "      <td>9194.0</td>\n",
       "      <td>0.823466</td>\n",
       "    </tr>\n",
       "    <tr>\n",
       "      <th>69349</th>\n",
       "      <td>0385349173</td>\n",
       "      <td>Things That Matter: Three Decades of Passions,...</td>\n",
       "      <td>2295</td>\n",
       "      <td>10310.0</td>\n",
       "      <td>4.757298</td>\n",
       "      <td>5409.0</td>\n",
       "      <td>0.524636</td>\n",
       "    </tr>\n",
       "    <tr>\n",
       "      <th>98683</th>\n",
       "      <td>1616550414</td>\n",
       "      <td>The Legend of Zelda: Hyrule Historia</td>\n",
       "      <td>2326</td>\n",
       "      <td>2745.0</td>\n",
       "      <td>4.846518</td>\n",
       "      <td>1315.0</td>\n",
       "      <td>0.479053</td>\n",
       "    </tr>\n",
       "    <tr>\n",
       "      <th>120665</th>\n",
       "      <td>0525953728</td>\n",
       "      <td>No Easy Day: The Autobiography of a Navy Seal:...</td>\n",
       "      <td>2365</td>\n",
       "      <td>12930.0</td>\n",
       "      <td>4.521353</td>\n",
       "      <td>5916.0</td>\n",
       "      <td>0.457541</td>\n",
       "    </tr>\n",
       "    <tr>\n",
       "      <th>133735</th>\n",
       "      <td>0385537859</td>\n",
       "      <td>Inferno</td>\n",
       "      <td>2368</td>\n",
       "      <td>3902.0</td>\n",
       "      <td>3.808277</td>\n",
       "      <td>2476.0</td>\n",
       "      <td>0.634546</td>\n",
       "    </tr>\n",
       "    <tr>\n",
       "      <th>165805</th>\n",
       "      <td>1594633665</td>\n",
       "      <td>The Girl on the Train</td>\n",
       "      <td>2430</td>\n",
       "      <td>12259.0</td>\n",
       "      <td>3.789300</td>\n",
       "      <td>10475.0</td>\n",
       "      <td>0.854474</td>\n",
       "    </tr>\n",
       "    <tr>\n",
       "      <th>63146</th>\n",
       "      <td>006202406X</td>\n",
       "      <td>Allegiant (Divergent Series)</td>\n",
       "      <td>2506</td>\n",
       "      <td>22290.0</td>\n",
       "      <td>2.697526</td>\n",
       "      <td>16082.0</td>\n",
       "      <td>0.721489</td>\n",
       "    </tr>\n",
       "    <tr>\n",
       "      <th>92688</th>\n",
       "      <td>0805098542</td>\n",
       "      <td>Killing Jesus (Bill O'Reilly's Killing Series)</td>\n",
       "      <td>2551</td>\n",
       "      <td>10266.0</td>\n",
       "      <td>4.362603</td>\n",
       "      <td>4914.0</td>\n",
       "      <td>0.478667</td>\n",
       "    </tr>\n",
       "    <tr>\n",
       "      <th>133548</th>\n",
       "      <td>0525478817</td>\n",
       "      <td>The Fault in Our Stars</td>\n",
       "      <td>2715</td>\n",
       "      <td>10009.0</td>\n",
       "      <td>4.639779</td>\n",
       "      <td>7783.0</td>\n",
       "      <td>0.777600</td>\n",
       "    </tr>\n",
       "    <tr>\n",
       "      <th>75295</th>\n",
       "      <td>080509668X</td>\n",
       "      <td>Killing Patton: The Strange Death of World War...</td>\n",
       "      <td>2797</td>\n",
       "      <td>7390.0</td>\n",
       "      <td>4.595281</td>\n",
       "      <td>3513.0</td>\n",
       "      <td>0.475372</td>\n",
       "    </tr>\n",
       "    <tr>\n",
       "      <th>138759</th>\n",
       "      <td>0345803507</td>\n",
       "      <td>Fifty Shades Freed: Book Three of the Fifty Sh...</td>\n",
       "      <td>2876</td>\n",
       "      <td>4931.0</td>\n",
       "      <td>4.250000</td>\n",
       "      <td>3140.0</td>\n",
       "      <td>0.636788</td>\n",
       "    </tr>\n",
       "    <tr>\n",
       "      <th>120443</th>\n",
       "      <td>0345803493</td>\n",
       "      <td>Fifty Shades Darker</td>\n",
       "      <td>2914</td>\n",
       "      <td>3232.0</td>\n",
       "      <td>4.263212</td>\n",
       "      <td>1189.0</td>\n",
       "      <td>0.367884</td>\n",
       "    </tr>\n",
       "    <tr>\n",
       "      <th>91791</th>\n",
       "      <td>0849946158</td>\n",
       "      <td>Heaven is for Real: A Little Boy's Astounding ...</td>\n",
       "      <td>2958</td>\n",
       "      <td>4289.0</td>\n",
       "      <td>4.496957</td>\n",
       "      <td>2119.0</td>\n",
       "      <td>0.494055</td>\n",
       "    </tr>\n",
       "    <tr>\n",
       "      <th>5699</th>\n",
       "      <td>1400064163</td>\n",
       "      <td>Unbroken: A World War II Story of Survival, Re...</td>\n",
       "      <td>3040</td>\n",
       "      <td>2265.0</td>\n",
       "      <td>4.825329</td>\n",
       "      <td>1414.0</td>\n",
       "      <td>0.624283</td>\n",
       "    </tr>\n",
       "    <tr>\n",
       "      <th>101463</th>\n",
       "      <td>161638610X</td>\n",
       "      <td>The Harbinger: The Ancient Mystery that Holds ...</td>\n",
       "      <td>3127</td>\n",
       "      <td>5896.0</td>\n",
       "      <td>4.575312</td>\n",
       "      <td>2548.0</td>\n",
       "      <td>0.432157</td>\n",
       "    </tr>\n",
       "    <tr>\n",
       "      <th>150196</th>\n",
       "      <td>1476755868</td>\n",
       "      <td>Rush Revere and the Brave Pilgrims: Time-Trave...</td>\n",
       "      <td>3672</td>\n",
       "      <td>37481.0</td>\n",
       "      <td>4.789488</td>\n",
       "      <td>12098.0</td>\n",
       "      <td>0.322777</td>\n",
       "    </tr>\n",
       "    <tr>\n",
       "      <th>72833</th>\n",
       "      <td>030758836X</td>\n",
       "      <td>Gone Girl</td>\n",
       "      <td>4014</td>\n",
       "      <td>20197.0</td>\n",
       "      <td>3.526906</td>\n",
       "      <td>14990.0</td>\n",
       "      <td>0.742189</td>\n",
       "    </tr>\n",
       "    <tr>\n",
       "      <th>57134</th>\n",
       "      <td>1451695195</td>\n",
       "      <td>Proof of Heaven: A Neurosurgeon's Journey into...</td>\n",
       "      <td>4067</td>\n",
       "      <td>19026.0</td>\n",
       "      <td>4.174822</td>\n",
       "      <td>14101.0</td>\n",
       "      <td>0.741144</td>\n",
       "    </tr>\n",
       "    <tr>\n",
       "      <th>130859</th>\n",
       "      <td>1591451884</td>\n",
       "      <td>Jesus Calling: Enjoying Peace in His Presence</td>\n",
       "      <td>4407</td>\n",
       "      <td>3876.0</td>\n",
       "      <td>4.863853</td>\n",
       "      <td>2619.0</td>\n",
       "      <td>0.675697</td>\n",
       "    </tr>\n",
       "    <tr>\n",
       "      <th>152833</th>\n",
       "      <td>034580404X</td>\n",
       "      <td>Fifty Shades Trilogy (Fifty Shades of Grey / F...</td>\n",
       "      <td>5137</td>\n",
       "      <td>1877.0</td>\n",
       "      <td>4.382519</td>\n",
       "      <td>1131.0</td>\n",
       "      <td>0.602557</td>\n",
       "    </tr>\n",
       "    <tr>\n",
       "      <th>139637</th>\n",
       "      <td>0345803485</td>\n",
       "      <td>Fifty Shades of Grey: Book One of the Fifty Sh...</td>\n",
       "      <td>8267</td>\n",
       "      <td>41245.0</td>\n",
       "      <td>3.136204</td>\n",
       "      <td>23945.0</td>\n",
       "      <td>0.580555</td>\n",
       "    </tr>\n",
       "  </tbody>\n",
       "</table>\n",
       "<p>173707 rows × 7 columns</p>\n",
       "</div>"
      ],
      "text/plain": [
       "        product_id                                      product_title  \\\n",
       "91887   031042366X       NASB, Skinii Bible, Imitation Leather, Black   \n",
       "24404   0446578223                      Single, Saved, and Having Sex   \n",
       "69573   0825434831  Bible Explorer's Guide: How to Understand and ...   \n",
       "24398   0439376459  Ricky Ricotta's Mighty Robot vs. The Stupid St...   \n",
       "152302  0805091319         Revolutionary Russia, 1891-1991: A History   \n",
       "152303  0805094946                    The Land of Decoration: A Novel   \n",
       "111758  161614680X                            London Eye (Toxic City)   \n",
       "69582   0843174919  Follow Your Heart: Finding Purpose in Your Lif...   \n",
       "69590   0870612417  Interior Castle: The Classic Text With a Spiri...   \n",
       "69594   0882661779  Braiding Rugs: A Storey Country Wisdom Bulleti...   \n",
       "111771  162032105X  Seven Congregations in a Roman Crucible: A Com...   \n",
       "152318  0823096157  Facial Expressions Babies to Teens: A Visual R...   \n",
       "152322  0826211216  Orphan Trains to Missouri (MISSOURI HERITAGE R...   \n",
       "24373   0393326721  The T-Factor Fat Gram Counter (Revised and Upd...   \n",
       "24372   0393322807  Reflections in Black: A History of Black Photo...   \n",
       "69604   0918222982  American Frugal Housewife: Dedicated to Those ...   \n",
       "111734  160468285X  25 Patchwork Quilt Blocks: Projects and Inspir...   \n",
       "152325  0830826955  The Mosaic of Christian Belief: Twenty Centuri...   \n",
       "69606   0922915970  Sex and Rockets: The Occult World of Jack Parsons   \n",
       "69607   0925190861  Remembering with Love: Messages of Hope for th...   \n",
       "69610   0935696474  Keep on the Borderlands Dungeon Module B2: Dun...   \n",
       "152320  082544294X               Badge of Honor (Goldtown Adventures)   \n",
       "152333  0847832643  The Hudson River School: Nature and the Americ...   \n",
       "111774  1620920980  Chevrolet Silverado, GMC Sierra 2007 - 2013, 2...   \n",
       "152284  0789315491                 This is Rome: A Children's Classic   \n",
       "24464   0618051597                                    On Mother's Lap   \n",
       "24461   061586144X  Sticky Faith Launch Kit: Your Next 180 Days To...   \n",
       "111804  1888538120  Costa Rica Wildlife Guide (Laminated Foldout P...   \n",
       "111803  1887571175  Physical Assessment of the Newborn: A Comprehe...   \n",
       "69526   0778327965               Ghost Moon (The Bone Island Trilogy)   \n",
       "...            ...                                                ...   \n",
       "33816   0062238868  American Sniper: The Autobiography of the Most...   \n",
       "164952  0803741715                          The Book with No Pictures   \n",
       "77410   0805096663                Killing Kennedy: The End of Camelot   \n",
       "161449  0061950726                                       Orphan Train   \n",
       "78780   0399255370                           The Day the Crayons Quit   \n",
       "97934   0312510780                                    First 100 Words   \n",
       "146456  1609611543  Wheat Belly: Lose the Wheat, Lose the Weight, ...   \n",
       "79661   1476746583                        All the Light We Cannot See   \n",
       "93691   0316376469  The Food Babe Way: Break Free from the Hidden ...   \n",
       "105072  0316055433  The Goldfinch: A Novel (Pulitzer Prize for Fic...   \n",
       "69349   0385349173  Things That Matter: Three Decades of Passions,...   \n",
       "98683   1616550414               The Legend of Zelda: Hyrule Historia   \n",
       "120665  0525953728  No Easy Day: The Autobiography of a Navy Seal:...   \n",
       "133735  0385537859                                            Inferno   \n",
       "165805  1594633665                              The Girl on the Train   \n",
       "63146   006202406X                       Allegiant (Divergent Series)   \n",
       "92688   0805098542     Killing Jesus (Bill O'Reilly's Killing Series)   \n",
       "133548  0525478817                             The Fault in Our Stars   \n",
       "75295   080509668X  Killing Patton: The Strange Death of World War...   \n",
       "138759  0345803507  Fifty Shades Freed: Book Three of the Fifty Sh...   \n",
       "120443  0345803493                                Fifty Shades Darker   \n",
       "91791   0849946158  Heaven is for Real: A Little Boy's Astounding ...   \n",
       "5699    1400064163  Unbroken: A World War II Story of Survival, Re...   \n",
       "101463  161638610X  The Harbinger: The Ancient Mystery that Holds ...   \n",
       "150196  1476755868  Rush Revere and the Brave Pilgrims: Time-Trave...   \n",
       "72833   030758836X                                          Gone Girl   \n",
       "57134   1451695195  Proof of Heaven: A Neurosurgeon's Journey into...   \n",
       "130859  1591451884      Jesus Calling: Enjoying Peace in His Presence   \n",
       "152833  034580404X  Fifty Shades Trilogy (Fifty Shades of Grey / F...   \n",
       "139637  0345803485  Fifty Shades of Grey: Book One of the Fifty Sh...   \n",
       "\n",
       "        n_reviews  total_votes    rating  helpful_votes  ratio_helpful  \n",
       "91887          11         42.0  4.272727           27.0       0.642857  \n",
       "24404          11          1.0  4.636364            0.0       0.000000  \n",
       "69573          11          1.0  4.636364            1.0       1.000000  \n",
       "24398          11          1.0  4.636364            0.0       0.000000  \n",
       "152302         11        168.0  4.636364          138.0       0.821429  \n",
       "152303         11          6.0  4.000000            5.0       0.833333  \n",
       "111758         11         17.0  3.454545           14.0       0.823529  \n",
       "69582          11          7.0  4.727273            6.0       0.857143  \n",
       "69590          11         21.0  4.818182           11.0       0.523810  \n",
       "69594          11         13.0  3.727273            7.0       0.538462  \n",
       "111771         11         19.0  4.818182           15.0       0.789474  \n",
       "152318         11          5.0  4.454545            3.0       0.600000  \n",
       "152322         11         10.0  4.636364           10.0       1.000000  \n",
       "24373          11          7.0  4.272727            7.0       1.000000  \n",
       "24372          11          0.0  4.636364            0.0            NaN  \n",
       "69604          11          3.0  4.909091            3.0       1.000000  \n",
       "111734         11          3.0  5.000000            2.0       0.666667  \n",
       "152325         11         24.0  4.363636            4.0       0.166667  \n",
       "69606          11         60.0  3.272727           25.0       0.416667  \n",
       "69607          11          3.0  4.909091            2.0       0.666667  \n",
       "69610          11         59.0  4.636364           39.0       0.661017  \n",
       "152320         11          5.0  5.000000            4.0       0.800000  \n",
       "152333         11         32.0  4.909091           20.0       0.625000  \n",
       "111774         11          8.0  3.727273            5.0       0.625000  \n",
       "152284         11          4.0  4.818182            4.0       1.000000  \n",
       "24464          11          4.0  4.545455            3.0       0.750000  \n",
       "24461          11         27.0  4.818182           17.0       0.629630  \n",
       "111804         11         30.0  5.000000           28.0       0.933333  \n",
       "111803         11          7.0  4.818182            1.0       0.142857  \n",
       "69526          11          2.0  4.818182            2.0       1.000000  \n",
       "...           ...          ...       ...            ...            ...  \n",
       "33816        2001       5670.0  4.592204         2452.0       0.432451  \n",
       "164952       2013       4863.0  4.747144         3521.0       0.724039  \n",
       "77410        2048      17414.0  4.210449         9888.0       0.567819  \n",
       "161449       2050       4158.0  4.530732         3428.0       0.824435  \n",
       "78780        2064       6596.0  4.723837         3643.0       0.552304  \n",
       "97934        2086       1968.0  4.530201         1707.0       0.867378  \n",
       "146456       2093       8344.0  4.376971         5736.0       0.687440  \n",
       "79661        2206       7196.0  4.490934         5590.0       0.776820  \n",
       "93691        2231     101303.0  4.335724        41007.0       0.404796  \n",
       "105072       2257      11165.0  3.580860         9194.0       0.823466  \n",
       "69349        2295      10310.0  4.757298         5409.0       0.524636  \n",
       "98683        2326       2745.0  4.846518         1315.0       0.479053  \n",
       "120665       2365      12930.0  4.521353         5916.0       0.457541  \n",
       "133735       2368       3902.0  3.808277         2476.0       0.634546  \n",
       "165805       2430      12259.0  3.789300        10475.0       0.854474  \n",
       "63146        2506      22290.0  2.697526        16082.0       0.721489  \n",
       "92688        2551      10266.0  4.362603         4914.0       0.478667  \n",
       "133548       2715      10009.0  4.639779         7783.0       0.777600  \n",
       "75295        2797       7390.0  4.595281         3513.0       0.475372  \n",
       "138759       2876       4931.0  4.250000         3140.0       0.636788  \n",
       "120443       2914       3232.0  4.263212         1189.0       0.367884  \n",
       "91791        2958       4289.0  4.496957         2119.0       0.494055  \n",
       "5699         3040       2265.0  4.825329         1414.0       0.624283  \n",
       "101463       3127       5896.0  4.575312         2548.0       0.432157  \n",
       "150196       3672      37481.0  4.789488        12098.0       0.322777  \n",
       "72833        4014      20197.0  3.526906        14990.0       0.742189  \n",
       "57134        4067      19026.0  4.174822        14101.0       0.741144  \n",
       "130859       4407       3876.0  4.863853         2619.0       0.675697  \n",
       "152833       5137       1877.0  4.382519         1131.0       0.602557  \n",
       "139637       8267      41245.0  3.136204        23945.0       0.580555  \n",
       "\n",
       "[173707 rows x 7 columns]"
      ]
     },
     "execution_count": 55,
     "metadata": {},
     "output_type": "execute_result"
    }
   ],
   "source": [
    "by_product.sort_values(by='n_reviews')"
   ]
  },
  {
   "cell_type": "markdown",
   "metadata": {},
   "source": [
    "## 2.2 Rating vs vote counts & helpful votes"
   ]
  },
  {
   "cell_type": "code",
   "execution_count": 44,
   "metadata": {},
   "outputs": [
    {
     "data": {
      "image/png": "[encoded data removed]",
      "text/plain": [
       "<Figure size 432x288 with 1 Axes>"
      ]
     },
     "metadata": {},
     "output_type": "display_data"
    }
   ],
   "source": [
    "plt.scatter(by_product['ratio_helpful'], by_product['rating'])\n",
    "plt.xlabel('Ratio of helpful votes')\n",
    "plt.ylabel('Number of stars')\n",
    "plt.show()"
   ]
  },
  {
   "cell_type": "code",
   "execution_count": 45,
   "metadata": {},
   "outputs": [
    {
     "data": {
      "text/plain": [
       "<seaborn.axisgrid.JointGrid at 0x7faef4801be0>"
      ]
     },
     "execution_count": 45,
     "metadata": {},
     "output_type": "execute_result"
    },
    {
     "data": {
      "image/png": "[encoded data removed]",
      "text/plain": [
       "<Figure size 432x432 with 3 Axes>"
      ]
     },
     "metadata": {},
     "output_type": "display_data"
    }
   ],
   "source": [
    "sns.jointplot(x = by_product['ratio_helpful'], y = by_product['rating'], kind='kde')"
   ]
  },
  {
   "cell_type": "markdown",
   "metadata": {},
   "source": [
    "**Observation**<br>\n",
    "We can see that the lower the number of helpful votes is, the higher the rating. However, unfortunately we cannot come up with an possible explanation for the ratio of helpful votes to influence the rating, so we cannot reason if the relationship is causal."
   ]
  },
  {
   "cell_type": "code",
   "execution_count": 16,
   "metadata": {},
   "outputs": [
    {
     "data": {
      "image/png": "[encoded data removed]",
      "text/plain": [
       "<Figure size 432x288 with 1 Axes>"
      ]
     },
     "metadata": {},
     "output_type": "display_data"
    }
   ],
   "source": [
    "plt.scatter(by_product['n_reviews'], by_product['rating'])\n",
    "plt.xscale('log')\n",
    "plt.xlabel('Number of reviews')\n",
    "plt.ylabel('Number of stars')\n",
    "plt.show()"
   ]
  },
  {
   "cell_type": "code",
   "execution_count": 46,
   "metadata": {},
   "outputs": [
    {
     "data": {
      "text/plain": [
       "<seaborn.axisgrid.JointGrid at 0x7faef1e0f0f0>"
      ]
     },
     "execution_count": 46,
     "metadata": {},
     "output_type": "execute_result"
    },
    {
     "data": {
      "image/png": "[encoded data removed]",
      "text/plain": [
       "<Figure size 432x432 with 3 Axes>"
      ]
     },
     "metadata": {},
     "output_type": "display_data"
    }
   ],
   "source": [
    "sns.jointplot(x = by_product['n_reviews'], y = by_product['rating'], kind='kde')"
   ]
  },
  {
   "cell_type": "markdown",
   "metadata": {},
   "source": [
    "**Observation**<br>\n",
    "We can see that the higher the number of reviews is, the higher the rating. However, the causal relationship is most likely causal in the sense that better products have higher ratings, but better products also have more people that buy them, so more reviews."
   ]
  },
  {
   "cell_type": "code",
   "execution_count": 52,
   "metadata": {},
   "outputs": [
    {
     "data": {
      "image/png": "[encoded data removed]",
      "text/plain": [
       "<Figure size 432x288 with 1 Axes>"
      ]
     },
     "metadata": {},
     "output_type": "display_data"
    }
   ],
   "source": [
    "plt.hist2d(by_product['n_reviews'], by_product['rating'], bins=200)\n",
    "#plt.xlim(0, 100)\n",
    "plt.show()"
   ]
  },
  {
   "cell_type": "markdown",
   "metadata": {},
   "source": [
    "## 2.3 Analysis of Time Based Features"
   ]
  },
  {
   "cell_type": "code",
   "execution_count": 17,
   "metadata": {},
   "outputs": [],
   "source": [
    "by_time = data.select(data['star_rating'],to_timestamp(data['review_date'], 'yyyy-MM-dd').alias('date'), data['review_id'])"
   ]
  },
  {
   "cell_type": "code",
   "execution_count": 18,
   "metadata": {},
   "outputs": [
    {
     "data": {
      "text/plain": [
       "DataFrame[month: int, count(review_id): bigint, rating: double]"
      ]
     },
     "execution_count": 18,
     "metadata": {},
     "output_type": "execute_result"
    }
   ],
   "source": [
    "by_time_month = by_time.groupby(month('date')).agg({'star_rating' : 'avg', 'review_id' : 'count'}).withColumnRenamed('avg(star_rating)', 'rating').withColumnRenamed('month(date)', 'month')\n",
    "by_time_month.persist()"
   ]
  },
  {
   "cell_type": "code",
   "execution_count": 19,
   "metadata": {},
   "outputs": [],
   "source": [
    "by_time_month = by_time_month.sort(\"month\")"
   ]
  },
  {
   "cell_type": "code",
   "execution_count": 20,
   "metadata": {},
   "outputs": [
    {
     "name": "stdout",
     "output_type": "stream",
     "text": [
      "+-----+----------------+------------------+\n",
      "|month|count(review_id)|            rating|\n",
      "+-----+----------------+------------------+\n",
      "| null|            3121| 4.370060281312793|\n",
      "|    1|         1935472|4.3539901378061785|\n",
      "|    2|         1670763| 4.347238956093713|\n",
      "|    3|         1740418| 4.351264466352336|\n",
      "|    4|         1575087| 4.342526476315276|\n",
      "|    5|         1601946|  4.34153523277314|\n",
      "|    6|         1583909| 4.332101149750396|\n",
      "|    7|         1752737| 4.342714851115712|\n",
      "|    8|         1793909| 4.341525684970643|\n",
      "|    9|         1399667|4.3197289069471525|\n",
      "|   10|         1439117|  4.33547515594632|\n",
      "|   11|         1392114| 4.335222546429387|\n",
      "|   12|         1643069|  4.34829091170243|\n",
      "+-----+----------------+------------------+\n",
      "\n"
     ]
    }
   ],
   "source": [
    "by_time_month.show()"
   ]
  },
  {
   "cell_type": "code",
   "execution_count": 21,
   "metadata": {},
   "outputs": [
    {
     "data": {
      "image/png": "[encoded data removed]",
      "text/plain": [
       "<Figure size 432x288 with 1 Axes>"
      ]
     },
     "metadata": {},
     "output_type": "display_data"
    }
   ],
   "source": [
    "by_month_pd = by_time_month.toPandas()\n",
    "plt.plot(by_month_pd['month'], by_month_pd['rating'])\n",
    "plt.xlabel('Month')\n",
    "plt.ylabel('Average Rating')\n",
    "plt.show()"
   ]
  },
  {
   "cell_type": "code",
   "execution_count": 22,
   "metadata": {},
   "outputs": [
    {
     "data": {
      "image/png": "[encoded data removed]",
      "text/plain": [
       "<Figure size 432x288 with 1 Axes>"
      ]
     },
     "metadata": {},
     "output_type": "display_data"
    }
   ],
   "source": [
    "plt.plot(by_month_pd['month'], by_month_pd['count(review_id)'])\n",
    "plt.xlabel('Day of the month')\n",
    "plt.ylabel('Number of reviews')\n",
    "plt.show()"
   ]
  },
  {
   "cell_type": "code",
   "execution_count": 23,
   "metadata": {},
   "outputs": [
    {
     "data": {
      "text/plain": [
       "DataFrame[dayofmonth: int, count(review_id): bigint, rating: double]"
      ]
     },
     "execution_count": 23,
     "metadata": {},
     "output_type": "execute_result"
    }
   ],
   "source": [
    "by_time_dayofmonth = by_time.groupby(dayofmonth('date')).agg({'star_rating' : 'avg', 'review_id' : 'count'}).withColumnRenamed('avg(star_rating)', 'rating').withColumnRenamed('dayofmonth(date)', 'dayofmonth')\n",
    "by_time_dayofmonth.persist()"
   ]
  },
  {
   "cell_type": "code",
   "execution_count": 24,
   "metadata": {},
   "outputs": [],
   "source": [
    "by_time_dayofmonth = by_time_dayofmonth.sort(\"dayofmonth\")"
   ]
  },
  {
   "cell_type": "code",
   "execution_count": 25,
   "metadata": {},
   "outputs": [
    {
     "name": "stdout",
     "output_type": "stream",
     "text": [
      "+----------+----------------+------------------+\n",
      "|dayofmonth|count(review_id)|            rating|\n",
      "+----------+----------------+------------------+\n",
      "|      null|            3121| 4.370060281312793|\n",
      "|         1|          609228| 4.335020714740622|\n",
      "|         2|          643125| 4.340126724975705|\n",
      "|         3|          667346| 4.346716695687095|\n",
      "|         4|          655368| 4.351817604765567|\n",
      "|         5|          648720| 4.346238747071156|\n",
      "|         6|          653951| 4.347406762892021|\n",
      "|         7|          660410| 4.348955951605821|\n",
      "|         8|          656937| 4.346165614054316|\n",
      "|         9|          676756| 4.347256618338071|\n",
      "|        10|          658070| 4.347750239336241|\n",
      "|        11|          653627| 4.344953620336981|\n",
      "|        12|          644180|4.3448057996212235|\n",
      "|        13|          639382| 4.340602331626477|\n",
      "|        14|          641162| 4.345653672550775|\n",
      "|        15|          633264| 4.344229262993001|\n",
      "|        16|          634742| 4.343489165676763|\n",
      "|        17|          644909| 4.341032610802454|\n",
      "|        18|          645955| 4.342407752862042|\n",
      "|        19|          632956| 4.340409127964661|\n",
      "+----------+----------------+------------------+\n",
      "only showing top 20 rows\n",
      "\n"
     ]
    }
   ],
   "source": [
    "by_time_dayofmonth.show()"
   ]
  },
  {
   "cell_type": "code",
   "execution_count": 26,
   "metadata": {},
   "outputs": [
    {
     "data": {
      "image/png": "[encoded data removed]",
      "text/plain": [
       "<Figure size 432x288 with 1 Axes>"
      ]
     },
     "metadata": {},
     "output_type": "display_data"
    }
   ],
   "source": [
    "by_dayofmonth_pd = by_time_dayofmonth.toPandas()\n",
    "plt.plot(by_dayofmonth_pd['dayofmonth'], by_dayofmonth_pd['rating'])\n",
    "plt.xlabel('Day of the month')\n",
    "plt.ylabel('Average Rating')\n",
    "plt.show()"
   ]
  },
  {
   "cell_type": "code",
   "execution_count": 25,
   "metadata": {},
   "outputs": [
    {
     "data": {
      "image/png": "[encoded data removed]",
      "text/plain": [
       "<Figure size 432x288 with 1 Axes>"
      ]
     },
     "metadata": {},
     "output_type": "display_data"
    }
   ],
   "source": [
    "plt.plot(by_dayofmonth_pd['dayofmonth'], by_dayofmonth_pd['count(review_id)'])\n",
    "plt.xlabel('Day of the month')\n",
    "plt.ylabel('Number of reviews')\n",
    "plt.show()"
   ]
  },
  {
   "cell_type": "code",
   "execution_count": 27,
   "metadata": {},
   "outputs": [
    {
     "data": {
      "text/plain": [
       "DataFrame[year: int, count(review_id): bigint, rating: double]"
      ]
     },
     "execution_count": 27,
     "metadata": {},
     "output_type": "execute_result"
    }
   ],
   "source": [
    "by_time_year = by_time.groupby(year('date')).agg({'star_rating' : 'avg', 'review_id' : 'count'}).withColumnRenamed('avg(star_rating)', 'rating').withColumnRenamed('year(date)', 'year')\n",
    "by_time_year.persist()"
   ]
  },
  {
   "cell_type": "code",
   "execution_count": 28,
   "metadata": {},
   "outputs": [],
   "source": [
    "by_time_year = by_time_year.sort(\"year\")"
   ]
  },
  {
   "cell_type": "code",
   "execution_count": 29,
   "metadata": {},
   "outputs": [
    {
     "name": "stdout",
     "output_type": "stream",
     "text": [
      "+----+----------------+-----------------+\n",
      "|year|count(review_id)|           rating|\n",
      "+----+----------------+-----------------+\n",
      "|null|            3121|4.370060281312793|\n",
      "|1995|             198|4.611111111111111|\n",
      "|1996|            4670|4.602355460385439|\n",
      "|1997|           36610|4.433925157060912|\n",
      "|1998|          120851|4.304548576346079|\n",
      "|1999|          244559|4.212570381789262|\n",
      "|2000|          540476|4.238943079803729|\n",
      "|2001|          444904|4.199580134141298|\n",
      "|2002|          426895|4.166542123941484|\n",
      "|2003|          440007|4.133756962957407|\n",
      "|2004|          440365|4.116753147956809|\n",
      "|2005|          516809|4.148062436993164|\n",
      "|2006|          563599|4.197094033168973|\n",
      "|2007|          753149|4.258834573238496|\n",
      "|2008|          819505|4.234401254415776|\n",
      "|2009|          999366|4.247195722087803|\n",
      "|2010|         1100489|4.246976571324202|\n",
      "|2011|         1278058|4.251192825364733|\n",
      "|2012|         1613698|4.316948400506167|\n",
      "|2013|         2904577|4.412825344275603|\n",
      "+----+----------------+-----------------+\n",
      "only showing top 20 rows\n",
      "\n"
     ]
    }
   ],
   "source": [
    "by_time_year.show()"
   ]
  },
  {
   "cell_type": "code",
   "execution_count": 30,
   "metadata": {},
   "outputs": [
    {
     "data": {
      "image/png": "[encoded data removed]",
      "text/plain": [
       "<Figure size 432x288 with 1 Axes>"
      ]
     },
     "metadata": {},
     "output_type": "display_data"
    }
   ],
   "source": [
    "by_year_pd = by_time_year.toPandas()\n",
    "plt.plot(by_year_pd['year'], by_year_pd['rating'])\n",
    "plt.xlabel('Year')\n",
    "plt.ylabel('Average Rating')\n",
    "plt.show()"
   ]
  },
  {
   "cell_type": "code",
   "execution_count": 31,
   "metadata": {},
   "outputs": [
    {
     "data": {
      "image/png": "[encoded data removed]",
      "text/plain": [
       "<Figure size 432x288 with 1 Axes>"
      ]
     },
     "metadata": {},
     "output_type": "display_data"
    }
   ],
   "source": [
    "plt.plot(by_year_pd['year'], by_year_pd['count(review_id)'])\n",
    "plt.xlabel('Year')\n",
    "plt.ylabel('Number of reviews')\n",
    "plt.show()"
   ]
  },
  {
   "cell_type": "code",
   "execution_count": null,
   "metadata": {},
   "outputs": [],
   "source": [
    "div_by_10 = udf(lambda x : 0 if x is None else 10*int(x / 10))\n",
    "div_by_100 = udf(lambda x : 0 if x is None else 100*int(x / 100))\n",
    "by_review_length = data.select(data['star_rating'], \\\n",
    "                               div_by_10(length(data['review_headline'])).alias('title_length'), \\\n",
    "                               div_by_100(length(data['review_body'])).alias('body_length'), \\\n",
    "                                      data['review_id'])\n",
    "by_review_length.persist()"
   ]
  },
  {
   "cell_type": "code",
   "execution_count": 32,
   "metadata": {},
   "outputs": [
    {
     "name": "stdout",
     "output_type": "stream",
     "text": [
      "+-----------+------------+-----------+--------------+\n",
      "|star_rating|title_length|body_length|     review_id|\n",
      "+-----------+------------+-----------+--------------+\n",
      "|          5|          10|         30| RJOVP071AVAJO|\n",
      "|          5|          60|        360|R1ORGBETCDW3AI|\n",
      "|          5|          10|         50| R7TNRFQAOUTX5|\n",
      "|          5|          10|         10|R2GANXKDIFZ6OI|\n",
      "|          5|          10|         80|R2NYB6C3R8LVN6|\n",
      "|          2|          30|       1500|R13U5PBJI1H94K|\n",
      "|          5|          50|        740|R1H8UVH990F8VE|\n",
      "|          5|          10|         10|R2MC0N30WZMRQ5|\n",
      "|          5|          10|         20| R2NO2HXK16Y4J|\n",
      "|          5|          10|         30|R245YIAVJK82ZL|\n",
      "|          5|          10|         10| RFBMLBWQOZ1UM|\n",
      "|          5|          30|        130| RHE1FEWV3KTQH|\n",
      "|          5|          10|         20|R2BB9U7PHO7ETO|\n",
      "|          4|          10|         20|R28XJJP754GYXO|\n",
      "|          3|          70|        270|R2G519UREHRO8M|\n",
      "|          5|          10|         70| RPBKCEIN3UISD|\n",
      "|          5|          10|        200|R2DOB8482VGJ8W|\n",
      "|          5|          20|        170|R2XKOET5M8W36S|\n",
      "|          5|          50|         60|R377BCSTZ4D2QP|\n",
      "|          5|          80|        110|R3A39XZ5SB97MK|\n",
      "+-----------+------------+-----------+--------------+\n",
      "only showing top 20 rows\n",
      "\n"
     ]
    }
   ],
   "source": [
    "by_review_length.show()"
   ]
  },
  {
   "cell_type": "code",
   "execution_count": 33,
   "metadata": {},
   "outputs": [
    {
     "data": {
      "text/plain": [
       "DataFrame[title_length: string, count: bigint, rating: double]"
      ]
     },
     "execution_count": 33,
     "metadata": {},
     "output_type": "execute_result"
    }
   ],
   "source": [
    "\n",
    "by_title_length = by_review_length.groupby('title_length').agg({'star_rating':'avg', 'review_id':'count'}).\\\n",
    "                    withColumnRenamed('avg(star_rating)', 'rating').withColumnRenamed('count(review_id)', 'count')\n",
    "by_title_length.persist()"
   ]
  },
  {
   "cell_type": "code",
   "execution_count": 34,
   "metadata": {},
   "outputs": [
    {
     "data": {
      "text/plain": [
       "<matplotlib.collections.PathCollection at 0x7f9315fd3b00>"
      ]
     },
     "execution_count": 34,
     "metadata": {},
     "output_type": "execute_result"
    },
    {
     "data": {
      "image/png": "[encoded data removed]",
      "text/plain": [
       "<Figure size 432x288 with 1 Axes>"
      ]
     },
     "metadata": {},
     "output_type": "display_data"
    }
   ],
   "source": [
    "by_title_length_pd = by_title_length.toPandas()\n",
    "by_title_length_pd\n",
    "plt.scatter(by_title_length_pd['title_length'], by_title_length_pd['rating'])"
   ]
  },
  {
   "cell_type": "code",
   "execution_count": 35,
   "metadata": {},
   "outputs": [
    {
     "data": {
      "text/plain": [
       "DataFrame[body_length: string, count: bigint, rating: double]"
      ]
     },
     "execution_count": 35,
     "metadata": {},
     "output_type": "execute_result"
    }
   ],
   "source": [
    "by_body_length = by_review_length.groupby('body_length').agg({'star_rating':'avg', 'review_id':'count'}) \\\n",
    "                    .withColumnRenamed('avg(star_rating)', 'rating').withColumnRenamed('count(review_id)', 'count')\n",
    "by_body_length.persist()"
   ]
  },
  {
   "cell_type": "code",
   "execution_count": null,
   "metadata": {},
   "outputs": [],
   "source": [
    "by_body_length.count()"
   ]
  },
  {
   "cell_type": "code",
   "execution_count": null,
   "metadata": {},
   "outputs": [
    {
     "data": {
      "text/plain": [
       "[<matplotlib.lines.Line2D at 0x7f9319bfada0>]"
      ]
     },
     "execution_count": 36,
     "metadata": {},
     "output_type": "execute_result"
    }
   ],
   "source": [
    "by_body_length_pd = by_body_length.toPandas()\n",
    "by_body_length_pd\n",
    "plt.plot(by_body_length_pd['body_length'], by_body_length_pd['count'])"
   ]
  },
  {
   "cell_type": "code",
   "execution_count": 2,
   "metadata": {},
   "outputs": [
    {
     "data": {
      "text/plain": [
       "2"
      ]
     },
     "execution_count": 2,
     "metadata": {},
     "output_type": "execute_result"
    }
   ],
   "source": [
    "\n"
   ]
  },
  {
   "cell_type": "code",
   "execution_count": null,
   "metadata": {},
   "outputs": [],
   "source": []
  }
 ],
 "metadata": {
  "kernelspec": {
   "display_name": "Python [default]",
   "language": "python",
   "name": "python3"
  },
  "language_info": {
   "codemirror_mode": {
    "name": "ipython",
    "version": 3
   },
   "file_extension": ".py",
   "mimetype": "text/x-python",
   "name": "python",
   "nbconvert_exporter": "python",
   "pygments_lexer": "ipython3",
   "version": "3.6.6"
  }
 },
 "nbformat": 4,
 "nbformat_minor": 2
}
