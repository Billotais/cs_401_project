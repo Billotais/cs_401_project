{
 "cells": [
  {
   "cell_type": "markdown",
   "metadata": {},
   "source": [
    "# Milestone 2\n",
    "## 2.1 Imports and data loading"
   ]
  },
  {
   "cell_type": "code",
   "execution_count": 1,
   "metadata": {},
   "outputs": [],
   "source": [
    "import findspark\n",
    "findspark.init()\n",
    "from pyspark.sql import *\n",
    "spark = SparkSession.builder.getOrCreate()\n",
    "\n",
    "import matplotlib.pyplot as plt\n",
    "import numpy as np\n",
    "from pyspark.sql.functions import to_date, dayofmonth, dayofweek, month, year, length, udf, greatest\n",
    "import pyspark.sql.functions as f\n",
    "\n",
    "import seaborn as sns\n",
    "\n",
    "import pandas as pd"
   ]
  },
  {
   "cell_type": "code",
   "execution_count": 2,
   "metadata": {},
   "outputs": [],
   "source": [
    "DATA_PATH = 'data/'\n",
    "FILE_NAME_00 = 'amazon_reviews_us_Books_v1_00.tsv.gz'\n",
    "FILE_NAME_01 = 'amazon_reviews_us_Books_v1_01.tsv.gz'\n",
    "FILE_NAME_02 = 'amazon_reviews_us_Books_v1_02.tsv.gz'\n"
   ]
  },
  {
   "cell_type": "code",
   "execution_count": 29,
   "metadata": {},
   "outputs": [],
   "source": [
    "data_00 = spark.read.option(\"sep\", \"\\t\").option(\"header\", \"true\").csv(DATA_PATH + FILE_NAME_00)\n",
    "data_01 = spark.read.option(\"sep\", \"\\t\").option(\"header\", \"true\").csv(DATA_PATH + FILE_NAME_01)\n",
    "data_02 = spark.read.option(\"sep\", \"\\t\").option(\"header\", \"true\").csv(DATA_PATH + FILE_NAME_02)\n",
    "\n",
    "data = data_00.union(data_01).union(data_02)"
   ]
  },
  {
   "cell_type": "markdown",
   "metadata": {},
   "source": [
    "Our data looks like this\n",
    "\n",
    "\n",
    "\n",
    "|marketplace|customer_id|    review_id|product_id|product_parent|       product_title|product_category|star_rating|helpful_votes|total_votes|vine|verified_purchase|review_headline|         review_body|review_date|\n",
    "|-----------|-----------|-------------|----------|--------------|--------------------|----------------|-----------|-------------|-----------|----|-----------------|---------------|--------------------|-----------|\n",
    "|         US|   25933450|RJOVP071AVAJO|0439873800|      84656342|There Was an Old ...|           Books|          5|            0|          0|   N|                Y|     Five Stars|I love it and so ...| 2015-08-31|\n",
    "|         US|    1801372|R1ORGBETCDW3AI|1623953553|     729938122|      I Saw a Friend|           Books|          5|            0|          0|   N|                Y|Please buy \"I Saw...|My wife and I ord...| 2015-08-31|\n"
   ]
  },
  {
   "cell_type": "markdown",
   "metadata": {},
   "source": [
    "## 2.2 Analysis of some features"
   ]
  },
  {
   "cell_type": "markdown",
   "metadata": {},
   "source": [
    "Before doing some real data analysis, we should look at some of the features and decide and they are worth keeping.\n",
    "\n",
    "The `marketplace` won't be usefull since all the reviews are only for the US market.\n",
    "\n",
    "**TODO** Talk about other columns\n",
    "\n"
   ]
  },
  {
   "cell_type": "markdown",
   "metadata": {},
   "source": [
    "---\n",
    "`verified_purchase` column : This might have an influence, since non-verified purchases won't be as reliable since poeple might not have actually bought the product. We will group all our data by `verified_purchase`, and compute look at the average rating.<br>\n",
    "We also looked at only the newest data, since we wanted to verify that our conclusion is not influenced by time (the percentage of verified reviews increasing while the average rating increases)."
   ]
  },
  {
   "cell_type": "code",
   "execution_count": 18,
   "metadata": {},
   "outputs": [],
   "source": [
    "verified_status = data.groupby('verified_purchase').agg(f.avg('star_rating'), f.count('review_id'), f.stddev('star_rating')) \n",
    "#verified_status = data.filter(year(to_date(data['review_date'], 'yyyy-MM-dd'))>=2015).groupby('verified_purchase').agg(f.avg('star_rating'), f.count('review_id'), f.stddev('star_rating')) \n",
    "_ = verified_status.persist()"
   ]
  },
  {
   "cell_type": "markdown",
   "metadata": {},
   "source": [
    "We will convert it to a Pandas dataframe, an drop the NA row."
   ]
  },
  {
   "cell_type": "code",
   "execution_count": 19,
   "metadata": {},
   "outputs": [],
   "source": [
    "ver_pandas = verified_status.toPandas()\n",
    "ver_pandas.dropna(inplace=True)"
   ]
  },
  {
   "cell_type": "markdown",
   "metadata": {},
   "source": [
    "Since we have the mean and the standard deviation, we can compute the err_mean by applying the central limit theorem."
   ]
  },
  {
   "cell_type": "code",
   "execution_count": 20,
   "metadata": {},
   "outputs": [
    {
     "data": {
      "text/html": [
       "<div>\n",
       "<style scoped>\n",
       "    .dataframe tbody tr th:only-of-type {\n",
       "        vertical-align: middle;\n",
       "    }\n",
       "\n",
       "    .dataframe tbody tr th {\n",
       "        vertical-align: top;\n",
       "    }\n",
       "\n",
       "    .dataframe thead th {\n",
       "        text-align: right;\n",
       "    }\n",
       "</style>\n",
       "<table border=\"1\" class=\"dataframe\">\n",
       "  <thead>\n",
       "    <tr style=\"text-align: right;\">\n",
       "      <th></th>\n",
       "      <th>verified_purchase</th>\n",
       "      <th>avg(star_rating)</th>\n",
       "      <th>count(review_id)</th>\n",
       "      <th>stddev_samp(star_rating)</th>\n",
       "      <th>err_mean</th>\n",
       "    </tr>\n",
       "  </thead>\n",
       "  <tbody>\n",
       "    <tr>\n",
       "      <th>0</th>\n",
       "      <td>Y</td>\n",
       "      <td>4.536860</td>\n",
       "      <td>2227454</td>\n",
       "      <td>0.959886</td>\n",
       "      <td>0.001261</td>\n",
       "    </tr>\n",
       "    <tr>\n",
       "      <th>1</th>\n",
       "      <td>N</td>\n",
       "      <td>4.345997</td>\n",
       "      <td>580276</td>\n",
       "      <td>1.140791</td>\n",
       "      <td>0.002935</td>\n",
       "    </tr>\n",
       "  </tbody>\n",
       "</table>\n",
       "</div>"
      ],
      "text/plain": [
       "  verified_purchase  avg(star_rating)  count(review_id)  \\\n",
       "0                 Y          4.536860           2227454   \n",
       "1                 N          4.345997            580276   \n",
       "\n",
       "   stddev_samp(star_rating)  err_mean  \n",
       "0                  0.959886  0.001261  \n",
       "1                  1.140791  0.002935  "
      ]
     },
     "execution_count": 20,
     "metadata": {},
     "output_type": "execute_result"
    }
   ],
   "source": [
    "ver_pandas['err_mean']=1.96*ver_pandas['stddev_samp(star_rating)']/np.sqrt(ver_pandas['count(review_id)'])\n",
    "ver_pandas.reset_index(inplace=True,drop=True)\n",
    "ver_pandas"
   ]
  },
  {
   "cell_type": "code",
   "execution_count": 21,
   "metadata": {},
   "outputs": [
    {
     "data": {
      "image/png": "[encoded data removed]",
      "text/plain": [
       "<Figure size 432x288 with 1 Axes>"
      ]
     },
     "metadata": {
      "needs_background": "light"
     },
     "output_type": "display_data"
    }
   ],
   "source": [
    "y = [1, 3]\n",
    "\n",
    "plt.figure()\n",
    "plt.errorbar(ver_pandas['avg(star_rating)'], y, xerr=ver_pandas['err_mean'], fmt = 'o')\n",
    "plt.yticks((0, 1, 3, 4), ('', ver_pandas['verified_purchase'][0], ver_pandas['verified_purchase'][1],'')) \n",
    "plt.ylabel('Verified Purchase')\n",
    "plt.xlabel('Average Star Rating (with 95% CI)')\n",
    "plt.title('Comparison of ratings for different purchase verification status')\n",
    "plt.show()"
   ]
  },
  {
   "cell_type": "markdown",
   "metadata": {},
   "source": [
    "We can clearly see, with a 95% confidence interval, that the average rating is higher for verified reviews. **TODO WHY**. It would be good to ignore all unverified reviews, to have more reliable ratings. \n",
    "\n",
    "There is however a problem with that. By looking at the evolution of the number of reviews over the years (The code is done in part [2.4](##2.4 Analysis of Time Based Features)), we realized that in the earliest years there are almost no verified reviews. This is probably due to the fact that this fonctionality was added quite late, or that maybe it used to be harder to be a verified review. Hence, we decided, despite the difference of rating, to keep all reviews, in order to avoid losing so much data for the earlier years.\n",
    "\n",
    "We didn't put the code that we used to keep the notebook well organized (but it is the same as in section [2.4](##2.4 Analysis of Time Based Features), one run with the complete data and once with only the verfied reviews). The only keep verified reviews, the following code was used :\n",
    "```python\n",
    "def keep_verified(data):\n",
    "    return data.filter(data.verified_purchase == 'Y')\n",
    "```\n",
    "\n",
    "Here, you can see for all the reviews their average ratings and how many of them were written over the years.\n",
    "\n",
    "![title](img/all.png)\n",
    "\n",
    "And here, you can see for only the verified reviews their average ratings and how many of them were written over the years.\n",
    "\n",
    "![title](img/verified.png) \n",
    "\n",
    "it is clear that a lot of data is mising in the 2000's if we limit ourselves to the verified reviews. From now on, we will use all the data"
   ]
  },
  {
   "cell_type": "markdown",
   "metadata": {},
   "source": [
    "## 2.3 Rating vs vote counts & helpful votes"
   ]
  },
  {
   "cell_type": "markdown",
   "metadata": {},
   "source": [
    "We first define a helper function that will group our data by product. For each product, we will have the average rating the number of reviews, the total number of votes and helpful votes, and the date of the earliest reviews. Not all of these atributes will be used now, we though it was better to have a single function instead of many slighly different functions."
   ]
  },
  {
   "cell_type": "code",
   "execution_count": 5,
   "metadata": {},
   "outputs": [],
   "source": [
    "def group_by_product(data):\n",
    "    avg_stars = data.groupby('product_id', 'product_title').agg(f.avg('star_rating'), f.count('review_id'), f.sum('helpful_votes'),f.sum('total_votes'),f.min(to_date(data['review_date'], 'yyyy-MM-dd')), f.stddev('star_rating'))\n",
    "    avg_stars.persist()\n",
    "    avg_stars = avg_stars.withColumnRenamed('count(review_id)', 'n_reviews') \\\n",
    "                        .withColumnRenamed('sum(total_votes)', 'total_votes') \\\n",
    "                        .withColumnRenamed('sum(helpful_votes)', 'helpful_votes') \\\n",
    "                        .withColumnRenamed('avg(star_rating)', 'rating') \\\n",
    "                        .withColumnRenamed(\"min(to_date(`review_date`, 'yyyy-MM-dd'))\", 'first_date') \\\n",
    "                        .withColumnRenamed('stddev_samp(star_rating)', 'std_rating')\n",
    "    \n",
    "\n",
    "    return avg_stars"
   ]
  },
  {
   "cell_type": "markdown",
   "metadata": {},
   "source": [
    "We want to see if we have any relation between the helpful_votes ratio and the rating of a product, or between the number of reviews and the rating. "
   ]
  },
  {
   "cell_type": "code",
   "execution_count": 30,
   "metadata": {},
   "outputs": [
    {
     "data": {
      "text/plain": [
       "3417300"
      ]
     },
     "execution_count": 30,
     "metadata": {},
     "output_type": "execute_result"
    }
   ],
   "source": [
    "avg_stars = group_by_product(data)\n",
    "avg_stars.count()"
   ]
  },
  {
   "cell_type": "markdown",
   "metadata": {},
   "source": [
    "Since we want to draw some plots, we have to convert our data to a pandas dataframe, However, we currently have too much data for pandas, so we decided to only keep reviews with more than 2 reviews. It is kind of an arbitrary number, but it is reasonable to assume that the average rating of products with a small amount of reviews might not be that reliable as an indication of the true quality of the product. If after some more advanced analysis we realized that those reviews might actually be important, we may to a subsample of the data instead, and use that for our plots."
   ]
  },
  {
   "cell_type": "code",
   "execution_count": 46,
   "metadata": {},
   "outputs": [
    {
     "data": {
      "text/plain": [
       "1292586"
      ]
     },
     "execution_count": 46,
     "metadata": {},
     "output_type": "execute_result"
    }
   ],
   "source": [
    "main_avg_stars = avg_stars.where('n_reviews > 2')\n",
    "main_avg_stars.count()"
   ]
  },
  {
   "cell_type": "markdown",
   "metadata": {},
   "source": [
    "Our data bow looks like this \n",
    "\n",
    "|product_id|       product_title|            rating|n_reviews|helpful_votes|total_votes|first_date|         std_rating|\n",
    "|----------|--------------------|------------------|---------|-------------|-----------|----------|-------------------|\n",
    "|014241543X|           If I Stay| 4.154536390827517|     1003|       1441.0|     1842.0|2010-04-18| 1.1782488356812273|\n",
    "|1250056608|Rough Justice: Si...|              4.25|       12|          7.0|        7.0|2015-02-05| 0.7537783614444091|\n",
    "|0340909129|Do It Tomorrow an...|               4.6|       30|        439.0|      519.0|2006-08-14| 0.8136762043449723|"
   ]
  },
  {
   "cell_type": "code",
   "execution_count": 69,
   "metadata": {},
   "outputs": [],
   "source": [
    "by_product = main_avg_stars.toPandas()"
   ]
  },
  {
   "cell_type": "markdown",
   "metadata": {},
   "source": [
    "we will compute the ration of Helpful votes, which is more useful than the number of helpful votes."
   ]
  },
  {
   "cell_type": "code",
   "execution_count": 70,
   "metadata": {},
   "outputs": [],
   "source": [
    "by_product['ratio_helpful'] = by_product['helpful_votes'] / by_product['total_votes']"
   ]
  },
  {
   "cell_type": "code",
   "execution_count": 71,
   "metadata": {},
   "outputs": [],
   "source": [
    "by_product = by_product.drop(columns=['helpful_votes', 'total_votes', 'first_date', 'std_rating'])"
   ]
  },
  {
   "cell_type": "markdown",
   "metadata": {},
   "source": [
    "And our data now looks like this :"
   ]
  },
  {
   "cell_type": "code",
   "execution_count": 72,
   "metadata": {},
   "outputs": [
    {
     "data": {
      "text/html": [
       "<div>\n",
       "<style scoped>\n",
       "    .dataframe tbody tr th:only-of-type {\n",
       "        vertical-align: middle;\n",
       "    }\n",
       "\n",
       "    .dataframe tbody tr th {\n",
       "        vertical-align: top;\n",
       "    }\n",
       "\n",
       "    .dataframe thead th {\n",
       "        text-align: right;\n",
       "    }\n",
       "</style>\n",
       "<table border=\"1\" class=\"dataframe\">\n",
       "  <thead>\n",
       "    <tr style=\"text-align: right;\">\n",
       "      <th></th>\n",
       "      <th>product_id</th>\n",
       "      <th>product_title</th>\n",
       "      <th>rating</th>\n",
       "      <th>n_reviews</th>\n",
       "      <th>ratio_helpful</th>\n",
       "    </tr>\n",
       "  </thead>\n",
       "  <tbody>\n",
       "    <tr>\n",
       "      <th>0</th>\n",
       "      <td>014241543X</td>\n",
       "      <td>If I Stay</td>\n",
       "      <td>4.154536</td>\n",
       "      <td>1003</td>\n",
       "      <td>0.782302</td>\n",
       "    </tr>\n",
       "    <tr>\n",
       "      <th>1</th>\n",
       "      <td>1250056608</td>\n",
       "      <td>Rough Justice: Sinner's Tribe Motorcycle Club ...</td>\n",
       "      <td>4.250000</td>\n",
       "      <td>12</td>\n",
       "      <td>1.000000</td>\n",
       "    </tr>\n",
       "    <tr>\n",
       "      <th>2</th>\n",
       "      <td>0340909129</td>\n",
       "      <td>Do It Tomorrow and Other Secrets of Time Manag...</td>\n",
       "      <td>4.600000</td>\n",
       "      <td>30</td>\n",
       "      <td>0.845857</td>\n",
       "    </tr>\n",
       "  </tbody>\n",
       "</table>\n",
       "</div>"
      ],
      "text/plain": [
       "   product_id                                      product_title    rating  \\\n",
       "0  014241543X                                          If I Stay  4.154536   \n",
       "1  1250056608  Rough Justice: Sinner's Tribe Motorcycle Club ...  4.250000   \n",
       "2  0340909129  Do It Tomorrow and Other Secrets of Time Manag...  4.600000   \n",
       "\n",
       "   n_reviews  ratio_helpful  \n",
       "0       1003       0.782302  \n",
       "1         12       1.000000  \n",
       "2         30       0.845857  "
      ]
     },
     "execution_count": 72,
     "metadata": {},
     "output_type": "execute_result"
    }
   ],
   "source": [
    "by_product.head(3)"
   ]
  },
  {
   "cell_type": "markdown",
   "metadata": {},
   "source": [
    "First, we will see how the rating depends on the helpful ratio. We will groupby `ratio_helpful`, which is cut into 50 bins, and compute the mean of each category"
   ]
  },
  {
   "cell_type": "code",
   "execution_count": 73,
   "metadata": {},
   "outputs": [
    {
     "data": {
      "text/html": [
       "<div>\n",
       "<style scoped>\n",
       "    .dataframe tbody tr th:only-of-type {\n",
       "        vertical-align: middle;\n",
       "    }\n",
       "\n",
       "    .dataframe tbody tr th {\n",
       "        vertical-align: top;\n",
       "    }\n",
       "\n",
       "    .dataframe thead th {\n",
       "        text-align: right;\n",
       "    }\n",
       "</style>\n",
       "<table border=\"1\" class=\"dataframe\">\n",
       "  <thead>\n",
       "    <tr style=\"text-align: right;\">\n",
       "      <th></th>\n",
       "      <th>rating</th>\n",
       "      <th>n_reviews</th>\n",
       "      <th>ratio_helpful</th>\n",
       "    </tr>\n",
       "    <tr>\n",
       "      <th>ratio_helpful</th>\n",
       "      <th></th>\n",
       "      <th></th>\n",
       "      <th></th>\n",
       "    </tr>\n",
       "  </thead>\n",
       "  <tbody>\n",
       "    <tr>\n",
       "      <th>(-0.002, 0.02]</th>\n",
       "      <td>4.341392</td>\n",
       "      <td>4.905736</td>\n",
       "      <td>0.000007</td>\n",
       "    </tr>\n",
       "    <tr>\n",
       "      <th>(0.02, 0.04]</th>\n",
       "      <td>3.996099</td>\n",
       "      <td>6.875000</td>\n",
       "      <td>0.032728</td>\n",
       "    </tr>\n",
       "    <tr>\n",
       "      <th>(0.04, 0.06]</th>\n",
       "      <td>4.062930</td>\n",
       "      <td>7.057269</td>\n",
       "      <td>0.051445</td>\n",
       "    </tr>\n",
       "  </tbody>\n",
       "</table>\n",
       "</div>"
      ],
      "text/plain": [
       "                  rating  n_reviews  ratio_helpful\n",
       "ratio_helpful                                     \n",
       "(-0.002, 0.02]  4.341392   4.905736       0.000007\n",
       "(0.02, 0.04]    3.996099   6.875000       0.032728\n",
       "(0.04, 0.06]    4.062930   7.057269       0.051445"
      ]
     },
     "execution_count": 73,
     "metadata": {},
     "output_type": "execute_result"
    }
   ],
   "source": [
    "grouped_product_ratio = by_product.groupby([pd.cut(by_product['ratio_helpful'], bins=50, include_lowest=True)]).mean()\n",
    "grouped_product_ratio.head(3)"
   ]
  },
  {
   "cell_type": "code",
   "execution_count": 74,
   "metadata": {},
   "outputs": [
    {
     "data": {
      "image/png": "[encoded data removed]",
      "text/plain": [
       "<Figure size 432x288 with 1 Axes>"
      ]
     },
     "metadata": {},
     "output_type": "display_data"
    }
   ],
   "source": [
    "plt.plot(grouped_product_ratio['ratio_helpful'], grouped_product_ratio['rating'])\n",
    "plt.xlabel('Helpful ratio')\n",
    "plt.ylabel('Average rating')\n",
    "plt.title('Average rating vs Helpful ratio')\n",
    "plt.show()"
   ]
  },
  {
   "cell_type": "markdown",
   "metadata": {},
   "source": [
    "**COMMENTS .......**\n"
   ]
  },
  {
   "cell_type": "markdown",
   "metadata": {},
   "source": [
    "The higher noise for products with a low helpful ratio can be explained by the fact that there is way less data than for high ratios. This can be seen more clearly if we do a historigram of the disrtibution"
   ]
  },
  {
   "cell_type": "code",
   "execution_count": 106,
   "metadata": {},
   "outputs": [
    {
     "data": {
      "image/png": "[encoded data removed]",
      "text/plain": [
       "<Figure size 432x288 with 1 Axes>"
      ]
     },
     "metadata": {},
     "output_type": "display_data"
    }
   ],
   "source": [
    "by_product['ratio_helpful'].plot.hist(20)\n",
    "plt.xlabel(\"Helpful ratio\")\n",
    "plt.ylabel(\"Number of products\")\n",
    "plt.title(\"Distribution of helpful_ratio\")\n",
    "plt.show()"
   ]
  },
  {
   "cell_type": "markdown",
   "metadata": {},
   "source": [
    "**COMMENTS about plot**"
   ]
  },
  {
   "cell_type": "markdown",
   "metadata": {},
   "source": [
    "Now, we will plot the average rating compared to the number of reviews. We group on the number of reviews, but this time we use logarithmic bins for a nicer plot."
   ]
  },
  {
   "cell_type": "code",
   "execution_count": 107,
   "metadata": {},
   "outputs": [
    {
     "data": {
      "text/html": [
       "<div>\n",
       "<style scoped>\n",
       "    .dataframe tbody tr th:only-of-type {\n",
       "        vertical-align: middle;\n",
       "    }\n",
       "\n",
       "    .dataframe tbody tr th {\n",
       "        vertical-align: top;\n",
       "    }\n",
       "\n",
       "    .dataframe thead th {\n",
       "        text-align: right;\n",
       "    }\n",
       "</style>\n",
       "<table border=\"1\" class=\"dataframe\">\n",
       "  <thead>\n",
       "    <tr style=\"text-align: right;\">\n",
       "      <th></th>\n",
       "      <th>rating</th>\n",
       "      <th>n_reviews</th>\n",
       "      <th>ratio_helpful</th>\n",
       "    </tr>\n",
       "    <tr>\n",
       "      <th>n_reviews</th>\n",
       "      <th></th>\n",
       "      <th></th>\n",
       "      <th></th>\n",
       "    </tr>\n",
       "  </thead>\n",
       "  <tbody>\n",
       "    <tr>\n",
       "      <th>(9.999, 10.985]</th>\n",
       "      <td>4.369884</td>\n",
       "      <td>10.000000</td>\n",
       "      <td>0.776885</td>\n",
       "    </tr>\n",
       "    <tr>\n",
       "      <th>(10.985, 12.068]</th>\n",
       "      <td>4.358492</td>\n",
       "      <td>11.459142</td>\n",
       "      <td>0.773810</td>\n",
       "    </tr>\n",
       "    <tr>\n",
       "      <th>(12.068, 13.257]</th>\n",
       "      <td>4.355776</td>\n",
       "      <td>13.000000</td>\n",
       "      <td>0.771614</td>\n",
       "    </tr>\n",
       "  </tbody>\n",
       "</table>\n",
       "</div>"
      ],
      "text/plain": [
       "                    rating  n_reviews  ratio_helpful\n",
       "n_reviews                                           \n",
       "(9.999, 10.985]   4.369884  10.000000       0.776885\n",
       "(10.985, 12.068]  4.358492  11.459142       0.773810\n",
       "(12.068, 13.257]  4.355776  13.000000       0.771614"
      ]
     },
     "execution_count": 107,
     "metadata": {},
     "output_type": "execute_result"
    }
   ],
   "source": [
    "grouped_product_n_reviews = by_product.groupby([pd.cut(by_product['n_reviews'], bins=np.logspace(1, 3), include_lowest=True)]).mean()\n",
    "grouped_product_n_reviews.head(3)"
   ]
  },
  {
   "cell_type": "code",
   "execution_count": 61,
   "metadata": {},
   "outputs": [
    {
     "data": {
      "image/png": "[encoded data removed]",
      "text/plain": [
       "<Figure size 432x288 with 1 Axes>"
      ]
     },
     "metadata": {},
     "output_type": "display_data"
    }
   ],
   "source": [
    "plt.scatter(grouped_product_n_reviews['n_reviews'], grouped_product_n_reviews['rating'])\n",
    "plt.xscale('log')\n",
    "plt.xlabel('Number of reviews')\n",
    "plt.ylabel('Average rating')\n",
    "plt.title('Average rating vs Helpful ratio')\n",
    "plt.show()"
   ]
  },
  {
   "cell_type": "markdown",
   "metadata": {},
   "source": [
    "**COMMENTS ........**"
   ]
  },
  {
   "cell_type": "markdown",
   "metadata": {},
   "source": [
    "One again, the higher noise for products with a high number of reviews can be explained by the fact that there is way less data than for products with ltos of reviews. This can also be seen more clearly if we do an historigram."
   ]
  },
  {
   "cell_type": "code",
   "execution_count": 113,
   "metadata": {},
   "outputs": [
    {
     "data": {
      "image/png": "[encoded data removed]",
      "text/plain": [
       "<Figure size 432x288 with 1 Axes>"
      ]
     },
     "metadata": {},
     "output_type": "display_data"
    }
   ],
   "source": [
    "by_product['n_reviews'].plot.hist(bins=np.logspace(1,3))\n",
    "plt.xlabel(\"Number of reviews\")\n",
    "plt.ylabel(\"Number of products\")\n",
    "plt.xscale('log')\n",
    "plt.title(\"Distribution of number of reviews\")\n",
    "plt.show()"
   ]
  },
  {
   "cell_type": "markdown",
   "metadata": {},
   "source": [
    "**COMMENTS about plot**"
   ]
  },
  {
   "cell_type": "markdown",
   "metadata": {},
   "source": [
    "## 2.4 Analysis of Time Based Features"
   ]
  },
  {
   "cell_type": "markdown",
   "metadata": {},
   "source": [
    "Here, we will try to see if the moment the review was posted has any influence. We will compare the data against the average rating, and the number of ratings. For the date, we will look at the year, the month, the day of the month and the day of the week.\n",
    "\n",
    "We create a single function, that will take the data and the 'type of time', and plot two graphs, one with the average rating, and one with the number of ratings. For the average graph, we will also plot a 95% condidence interval on the mean, using the central limit theorem."
   ]
  },
  {
   "cell_type": "code",
   "execution_count": 26,
   "metadata": {},
   "outputs": [],
   "source": [
    "def get_time_analysis(data, time_name):\n",
    "    time_types = {'month' : month('date'), 'year' : year('date'), 'dayofweek' : dayofweek('date'), 'dayofmonth' : dayofmonth('date')}\n",
    "    group_function = time_types[time_name]\n",
    "    \n",
    "    # Groupby the time type, aggregate usefull columns, and sort by time\n",
    "    data_bytime = data.groupby(group_function).agg(f.avg('star_rating'), f.count('review_id'), f.stddev('star_rating')).withColumnRenamed('avg(star_rating)', 'rating').withColumnRenamed('stddev_samp(star_ratinng)', 'std_rating').withColumnRenamed(time_name + '(date)', time_name)\n",
    "    data_bytime_sorted = data_bytime.sort(time_name)\n",
    "    \n",
    "    by_time_pd = data_bytime_sorted.toPandas()\n",
    "    \n",
    "    \n",
    "    fig, (ax1, ax2) = plt.subplots(1,2, figsize=(15,6))\n",
    "    \n",
    "    # First plot the average rating with it's condidence interval\n",
    "    ax1.plot(by_time_pd[time_name], by_time_pd['rating'])\n",
    "    ax1.fill_between(by_time_pd[time_name], by_time_pd['rating'] - 1.96 * by_time_pd['stddev_samp(star_rating)'] / np.sqrt(by_time_pd['count(review_id)']), \\\n",
    "                                            by_time_pd['rating'] + 1.96 * by_time_pd['stddev_samp(star_rating)'] / np.sqrt(by_time_pd['count(review_id)']), alpha=0.5)\n",
    "    ax1.set_xlabel(time_name)\n",
    "    ax1.set_ylabel('Average Rating')\n",
    "    ax1.set_title('Avergage Rating vs ' + time_name)\n",
    "    \n",
    "    ax2.plot(by_time_pd[time_name], by_time_pd['count(review_id)'])\n",
    "    ax2.set_xlabel(time_name)\n",
    "    ax2.set_ylabel('Number of reviews')\n",
    "    ax2.set_title('Number of reviews vs ' + time_name)\n",
    "    plt.show()\n",
    "    "
   ]
  },
  {
   "cell_type": "markdown",
   "metadata": {},
   "source": [
    "We will give this function a table that has a rating and a review date as its columns"
   ]
  },
  {
   "cell_type": "code",
   "execution_count": 25,
   "metadata": {},
   "outputs": [],
   "source": [
    "by_time = data.select(data['star_rating'],to_date(data['review_date'], 'yyyy-MM-dd').alias('date'), data['review_id'])\n",
    "_ = by_time.persist()"
   ]
  },
  {
   "cell_type": "markdown",
   "metadata": {},
   "source": [
    "Let's run it on different \"types of time\""
   ]
  },
  {
   "cell_type": "code",
   "execution_count": null,
   "metadata": {},
   "outputs": [],
   "source": [
    "get_time_analysis(by_time, 'month')"
   ]
  },
  {
   "cell_type": "markdown",
   "metadata": {},
   "source": [
    "**COMMENTS**"
   ]
  },
  {
   "cell_type": "code",
   "execution_count": null,
   "metadata": {},
   "outputs": [],
   "source": [
    "get_time_analysis(by_time, 'year')"
   ]
  },
  {
   "cell_type": "markdown",
   "metadata": {},
   "source": [
    "**COMMENTS**"
   ]
  },
  {
   "cell_type": "code",
   "execution_count": null,
   "metadata": {},
   "outputs": [],
   "source": [
    "get_time_analysis(by_time, 'dayofweek')"
   ]
  },
  {
   "cell_type": "markdown",
   "metadata": {},
   "source": [
    "**COMMENTS**"
   ]
  },
  {
   "cell_type": "code",
   "execution_count": null,
   "metadata": {},
   "outputs": [],
   "source": [
    "get_time_analysis(by_time, 'dayofmonth')"
   ]
  },
  {
   "cell_type": "markdown",
   "metadata": {},
   "source": [
    "**COMMENTS**"
   ]
  },
  {
   "cell_type": "markdown",
   "metadata": {},
   "source": [
    "## 2.5 Text analysis"
   ]
  },
  {
   "cell_type": "code",
   "execution_count": 146,
   "metadata": {},
   "outputs": [
    {
     "data": {
      "text/plain": [
       "DataFrame[star_rating: string, title_length: string, body_length: string, review_id: string]"
      ]
     },
     "execution_count": 146,
     "metadata": {},
     "output_type": "execute_result"
    }
   ],
   "source": [
    "div_by_10 = udf(lambda x : 0 if x is None else 1*int(x / 10))\n",
    "div_by_100 = udf(lambda x : 0 if x is None else 10*int(x / 100))\n",
    "by_review_length = data.select(data['star_rating'], \\\n",
    "                               div_by_10(length(data['review_headline'])).alias('title_length'), \\\n",
    "                               div_by_100(length(data['review_body'])).alias('body_length'), \\\n",
    "                                      data['review_id'])\n",
    "by_review_length.persist()"
   ]
  },
  {
   "cell_type": "code",
   "execution_count": 147,
   "metadata": {},
   "outputs": [
    {
     "name": "stdout",
     "output_type": "stream",
     "text": [
      "+-----------+------------+-----------+--------------+\n",
      "|star_rating|title_length|body_length|     review_id|\n",
      "+-----------+------------+-----------+--------------+\n",
      "|          5|           1|          0| RJOVP071AVAJO|\n",
      "|          5|           6|         30|R1ORGBETCDW3AI|\n",
      "|          5|           1|          0| R7TNRFQAOUTX5|\n",
      "|          5|           1|          0|R2GANXKDIFZ6OI|\n",
      "|          5|           1|          0|R2NYB6C3R8LVN6|\n",
      "|          2|           3|        150|R13U5PBJI1H94K|\n",
      "|          5|           5|         70|R1H8UVH990F8VE|\n",
      "|          5|           1|          0|R2MC0N30WZMRQ5|\n",
      "|          5|           1|          0| R2NO2HXK16Y4J|\n",
      "|          5|           1|          0|R245YIAVJK82ZL|\n",
      "|          5|           1|          0| RFBMLBWQOZ1UM|\n",
      "|          5|           3|         10| RHE1FEWV3KTQH|\n",
      "|          5|           1|          0|R2BB9U7PHO7ETO|\n",
      "|          4|           1|          0|R28XJJP754GYXO|\n",
      "|          3|           7|         20|R2G519UREHRO8M|\n",
      "|          5|           1|          0| RPBKCEIN3UISD|\n",
      "|          5|           1|         20|R2DOB8482VGJ8W|\n",
      "|          5|           2|         10|R2XKOET5M8W36S|\n",
      "|          5|           5|          0|R377BCSTZ4D2QP|\n",
      "|          5|           8|         10|R3A39XZ5SB97MK|\n",
      "+-----------+------------+-----------+--------------+\n",
      "only showing top 20 rows\n",
      "\n"
     ]
    }
   ],
   "source": [
    "by_review_length.show()"
   ]
  },
  {
   "cell_type": "code",
   "execution_count": 148,
   "metadata": {},
   "outputs": [
    {
     "data": {
      "text/plain": [
       "DataFrame[title_length: string, count: bigint, rating: double]"
      ]
     },
     "execution_count": 148,
     "metadata": {},
     "output_type": "execute_result"
    }
   ],
   "source": [
    "\n",
    "by_title_length = by_review_length.where('title_length < 300').groupby('title_length').agg({'star_rating':'avg', 'review_id':'count'}).\\\n",
    "                    withColumnRenamed('avg(star_rating)', 'rating').withColumnRenamed('count(review_id)', 'count')\n",
    "by_title_length.persist()"
   ]
  },
  {
   "cell_type": "code",
   "execution_count": 149,
   "metadata": {},
   "outputs": [
    {
     "data": {
      "text/plain": [
       "<matplotlib.collections.PathCollection at 0x7f9b0bc104a8>"
      ]
     },
     "execution_count": 149,
     "metadata": {},
     "output_type": "execute_result"
    },
    {
     "data": {
      "image/png": "[encoded data removed]",
      "text/plain": [
       "<Figure size 432x288 with 1 Axes>"
      ]
     },
     "metadata": {},
     "output_type": "display_data"
    }
   ],
   "source": [
    "by_title_length_pd = by_title_length.toPandas()\n",
    "by_title_length_pd\n",
    "plt.scatter(by_title_length_pd['title_length'], by_title_length_pd['rating'])"
   ]
  },
  {
   "cell_type": "code",
   "execution_count": 35,
   "metadata": {},
   "outputs": [
    {
     "data": {
      "text/plain": [
       "DataFrame[body_length: string, count: bigint, rating: double]"
      ]
     },
     "execution_count": 35,
     "metadata": {},
     "output_type": "execute_result"
    }
   ],
   "source": [
    "by_body_length = by_review_length.groupby('body_length').agg({'star_rating':'avg', 'review_id':'count'}) \\\n",
    "                    .withColumnRenamed('avg(star_rating)', 'rating').withColumnRenamed('count(review_id)', 'count')\n",
    "by_body_length.persist()"
   ]
  },
  {
   "cell_type": "code",
   "execution_count": null,
   "metadata": {},
   "outputs": [],
   "source": [
    "by_body_length.count()"
   ]
  },
  {
   "cell_type": "code",
   "execution_count": null,
   "metadata": {},
   "outputs": [
    {
     "data": {
      "text/plain": [
       "[<matplotlib.lines.Line2D at 0x7f9319bfada0>]"
      ]
     },
     "execution_count": 36,
     "metadata": {},
     "output_type": "execute_result"
    }
   ],
   "source": [
    "by_body_length_pd = by_body_length.toPandas()\n",
    "by_body_length_pd\n",
    "plt.plot(by_body_length_pd['body_length'], by_body_length_pd['count'])"
   ]
  },
  {
   "cell_type": "markdown",
   "metadata": {},
   "source": [
    "## 2.6 Comparaison betwen countries"
   ]
  },
  {
   "cell_type": "markdown",
   "metadata": {},
   "source": [
    "In this part, we want to see if there are any differences between the way people rate articles in differents countries. \n",
    "\n",
    "To be able to correcly compare ratings between countries, we will have to limit our dataset to products that are available in both regions. Moreover, we will only keep reviews given during the same time period, since we saw earlier that the year of the review had quite a big impact on the rating. \n",
    "\n",
    "> e.g. If for a given article we have reviews from 2001 to 2015 in the US, but only from 2005 to 2015 in the UK, we will discard all reviews in the us before 2005.\n",
    "\n",
    "We will first do pairwise comparaisons, since it is the way we will have the most common data. We might also do a comparaison between all 5 available countries, but the remaining number of reviews might be limited.\n",
    "\n",
    "For milestone 2, we will only study the difference between the US and UK, but the process will be the same for other pairs of countries.\n",
    "\n",
    "---\n",
    "\n",
    "First, we will open the datasets, as done earlier in this notebook"
   ]
  },
  {
   "cell_type": "code",
   "execution_count": 6,
   "metadata": {},
   "outputs": [],
   "source": [
    "FILE_NAME_US = 'amazon_reviews_multilingual_US_v1_00.tsv.gz'\n",
    "FILE_NAME_UK = 'amazon_reviews_multilingual_UK_v1_00.tsv.gz'"
   ]
  },
  {
   "cell_type": "code",
   "execution_count": 55,
   "metadata": {},
   "outputs": [],
   "source": [
    "data_us = spark.read.option(\"sep\", \"\\t\").option(\"header\", \"true\").csv(DATA_PATH + FILE_NAME_US)\n",
    "data_uk = spark.read.option(\"sep\", \"\\t\").option(\"header\", \"true\").csv(DATA_PATH + FILE_NAME_UK)\n",
    "data_us = keep_verified(data_us)\n",
    "data_uk = keep_verified(data_uk)"
   ]
  },
  {
   "cell_type": "markdown",
   "metadata": {},
   "source": [
    "WIll we use again the group_by_product function from earlier, which will limit the data to one entry per product, and also give us the date of the first review for a given product"
   ]
  },
  {
   "cell_type": "code",
   "execution_count": 56,
   "metadata": {},
   "outputs": [],
   "source": [
    "avg_us = group_by_product(data_us)\n",
    "avg_uk = group_by_product(data_uk)\n",
    "\n",
    "_ = avg_us.persist()\n",
    "_ = avg_uk.persist()\n",
    "\n",
    "# To be able to differenciate columns after a later join\n",
    "us = avg_us.alias(\"us\")\n",
    "uk = avg_uk.alias(\"uk\")"
   ]
  },
  {
   "cell_type": "markdown",
   "metadata": {},
   "source": [
    "We can join the products from US and UK, with an inner join, so we only have common products"
   ]
  },
  {
   "cell_type": "code",
   "execution_count": 59,
   "metadata": {},
   "outputs": [],
   "source": [
    "us_uk = us.join(uk, f.col('us.product_id') == f.col('uk.product_id'))"
   ]
  },
  {
   "cell_type": "markdown",
   "metadata": {},
   "source": [
    "We can this here some of the entries of the us_uk table, were the left-hand side columns correspond to the US data, and the right-hand side columns to the UK data\n",
    "\n",
    "|product_id|       product_title|           rating|n_reviews|helpful_votes|total_votes|first_date|        std_rating|product_id|       product_title|rating|n_reviews|helpful_votes|total_votes|first_date|       std_rating|\n",
    "|----------|--------------------|-----------------|---------|-------------|-----------|----------|------------------|----------|--------------------|------|---------|-------------|-----------|----------|------------------|\n",
    "|0099428385|I Don't Know How ...|4.666666666666667|        3|          2.0|        3.0|2011-05-02|0.5773502691896258|0099428385|I Don't Know How ...|4.454545454545454|       11|         12.0|       19.0|2009-09-04|0.8201995322647243|\n",
    "|0141038225|Antifragile: Thin...|4.666666666666667|        3|          2.0|        3.0|2013-09-30|0.5773502691896258|0141038225|Antifragile: Thin...|              3.5|       14|         16.0|       26.0|2013-11-28|1.5566235649883122|\n",
    "|0241951461|Penguin Essential...|              4.0|        3|          1.0|        5.0|2014-09-06|               1.0|0241951461|My Family and Oth...|4.333333333333333|        3|          1.0|       14.0|2012-12-03|1.1547005383792517|\n"
   ]
  },
  {
   "cell_type": "markdown",
   "metadata": {},
   "source": [
    "We will use this table to get for each product the earliest date reviews were available in both countries "
   ]
  },
  {
   "cell_type": "code",
   "execution_count": 62,
   "metadata": {},
   "outputs": [],
   "source": [
    "latest_date = us_uk.select(f.col('us.product_id'),greatest(f.col('us.first_date'), f.col('uk.first_date'))) \\\n",
    "                        .withColumnRenamed(\"product_id\", \"id\").withColumnRenamed(\"greatest(us.first_date, uk.first_date)\", 'latest_date')"
   ]
  },
  {
   "cell_type": "markdown",
   "metadata": {},
   "source": [
    "Again, here is an excerpt of the `latest_date` table, where `latest_date` is the date starting when the product `id` had received reviews in both countries\n",
    "\n",
    "|        id|latest_date|\n",
    "|----------|-----------|\n",
    "|B00000IQW3| 2007-07-26|\n",
    "|B00000IMCW| 2015-01-08|\n"
   ]
  },
  {
   "cell_type": "markdown",
   "metadata": {},
   "source": [
    "We can now, for the US, and the UK, only keep reviews that were writen when the article was available in both countries"
   ]
  },
  {
   "cell_type": "code",
   "execution_count": 63,
   "metadata": {},
   "outputs": [],
   "source": [
    "us_common_with_date = data_us.join(latest_date, data_us['product_id'] == latest_date['id'])\n",
    "us_common_reviews = us_common_with_date.where('review_date >= latest_date')\n",
    "_ = us_common_reviews.persist()\n",
    "\n",
    "uk_common_with_date = data_uk.join(latest_date, data_uk['product_id'] == latest_date['id'])\n",
    "uk_common_reviews = uk_common_with_date.where('review_date >= latest_date')\n",
    "_ = uk_common_reviews.persist()"
   ]
  },
  {
   "cell_type": "markdown",
   "metadata": {},
   "source": [
    "And now that we have reduced our dataset to only reviews of articles that are common between the uk and us, and for the same time period, we can get some statistics for each product"
   ]
  },
  {
   "cell_type": "code",
   "execution_count": 67,
   "metadata": {},
   "outputs": [],
   "source": [
    "common_us_avg = group_by_product(us_common_reviews)\n",
    "common_uk_avg = group_by_product(uk_common_reviews)"
   ]
  },
  {
   "cell_type": "markdown",
   "metadata": {},
   "source": [
    "Here is an excerpt of the `common_us_avg` table\n",
    "\n",
    "|product_id|       product_title|           rating|n_reviews|helpful_votes|total_votes|first_date|        std_rating|\n",
    "|----------|--------------------|-----------------|---------|-------------|-----------|----------|------------------|\n",
    "|0099428385|I Don't Know How ...| 4.666666666666667|        3|          2.0|        3.0|2011-05-02| 0.5773502691896258|\n",
    "|0141038225|Antifragile: Thin...|               4.5|        2|          1.0|        1.0|2014-01-15| 0.7071067811865476|\n",
    "|0241951461|Penguin Essential...|               4.0|        3|          1.0|        5.0|2014-09-06|                1.0|\n",
    "|0385394233|Lean In: Women, W...| 4.454545454545454|       22|          4.0|       10.0|2014-01-03| 0.8578640544577771|"
   ]
  },
  {
   "cell_type": "markdown",
   "metadata": {},
   "source": [
    "Here is an excerpt of the `common_uk_avg` table\n",
    "\n",
    "|product_id|       product_title|           rating|n_reviews|helpful_votes|total_votes|first_date|        std_rating|\n",
    "|----------|--------------------|-----------------|---------|-------------|-----------|----------|------------------|\n",
    "|0099428385|I Don't Know How ...| 4.444444444444445|        9|          3.0|        6.0|2011-12-19|  0.881917103688197|\n",
    "|0141038225|Antifragile: Thin...|               3.5|       14|         16.0|       26.0|2013-11-28| 1.5566235649883122|\n",
    "|0385394233|Lean in: Women, W...|               5.0|        1|          0.0|        0.0|2013-12-24|                NaN|\n",
    "|0553505416|Die Trying: (Jack...| 4.705882352941177|       17|          7.0|       10.0|2011-12-23| 0.9851843661437779|"
   ]
  },
  {
   "cell_type": "markdown",
   "metadata": {},
   "source": [
    "Now that our data has been cleaned, we can try and see if there is a difference between the ratings from the US and the UK. "
   ]
  },
  {
   "cell_type": "code",
   "execution_count": 68,
   "metadata": {},
   "outputs": [],
   "source": [
    "us_pd = common_us_avg.toPandas()\n",
    "uk_pd = common_uk_avg.toPandas()"
   ]
  },
  {
   "cell_type": "code",
   "execution_count": 69,
   "metadata": {},
   "outputs": [
    {
     "data": {
      "image/png": "[encoded data removed]",
      "text/plain": [
       "<Figure size 432x288 with 1 Axes>"
      ]
     },
     "metadata": {},
     "output_type": "display_data"
    }
   ],
   "source": [
    "plt.boxplot([us_pd['rating'], uk_pd['rating']], 0, sym='',autorange=True, labels=['US', 'UK'])\n",
    "plt.title('Distribution of the average ratings / product')\n",
    "plt.ylabel('Average rating')\n",
    "plt.show()"
   ]
  },
  {
   "cell_type": "markdown",
   "metadata": {},
   "source": [
    "We see that the median average rating is lower in the US than in the UK, but `TO COMPLETE`"
   ]
  },
  {
   "cell_type": "markdown",
   "metadata": {},
   "source": [
    "## 2.7 Herding behavior"
   ]
  },
  {
   "cell_type": "markdown",
   "metadata": {},
   "source": [
    "Do we have enough data to perform this analysis ?"
   ]
  },
  {
   "cell_type": "markdown",
   "metadata": {},
   "source": [
    "For common articles in every countries, get the first review and compare it to the average review. Correct the bias due to the difference between countries."
   ]
  }
 ],
 "metadata": {
  "kernelspec": {
   "display_name": "Python 3",
   "language": "python",
   "name": "python3"
  },
  "language_info": {
   "codemirror_mode": {
    "name": "ipython",
    "version": 3
   },
   "file_extension": ".py",
   "mimetype": "text/x-python",
   "name": "python",
   "nbconvert_exporter": "python",
   "pygments_lexer": "ipython3",
   "version": "3.6.5"
  }
 },
 "nbformat": 4,
 "nbformat_minor": 2
}
